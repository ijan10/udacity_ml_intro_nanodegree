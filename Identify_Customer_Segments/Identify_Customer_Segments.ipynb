{
 "cells": [
  {
   "cell_type": "markdown",
   "metadata": {},
   "source": [
    "# Project: Identify Customer Segments\n",
    "\n",
    "In this project, you will apply unsupervised learning techniques to identify segments of the population that form the core customer base for a mail-order sales company in Germany. These segments can then be used to direct marketing campaigns towards audiences that will have the highest expected rate of returns. The data that you will use has been provided by our partners at Bertelsmann Arvato Analytics, and represents a real-life data science task.\n",
    "\n",
    "This notebook will help you complete this task by providing a framework within which you will perform your analysis steps. In each step of the project, you will see some text describing the subtask that you will perform, followed by one or more code cells for you to complete your work. **Feel free to add additional code and markdown cells as you go along so that you can explore everything in precise chunks.** The code cells provided in the base template will outline only the major tasks, and will usually not be enough to cover all of the minor tasks that comprise it.\n",
    "\n",
    "It should be noted that while there will be precise guidelines on how you should handle certain tasks in the project, there will also be places where an exact specification is not provided. **There will be times in the project where you will need to make and justify your own decisions on how to treat the data.** These are places where there may not be only one way to handle the data. In real-life tasks, there may be many valid ways to approach an analysis task. One of the most important things you can do is clearly document your approach so that other scientists can understand the decisions you've made.\n",
    "\n",
    "At the end of most sections, there will be a Markdown cell labeled **Discussion**. In these cells, you will report your findings for the completed section, as well as document the decisions that you made in your approach to each subtask. **Your project will be evaluated not just on the code used to complete the tasks outlined, but also your communication about your observations and conclusions at each stage.**"
   ]
  },
  {
   "cell_type": "code",
   "execution_count": 1,
   "metadata": {},
   "outputs": [
    {
     "data": {
      "text/plain": [
       "'\\nImport note: The classroom currently uses sklearn version 0.19.\\nIf you need to use an imputer, it is available in sklearn.preprocessing.Imputer,\\ninstead of sklearn.impute as in newer versions of sklearn.\\n'"
      ]
     },
     "execution_count": 1,
     "metadata": {},
     "output_type": "execute_result"
    }
   ],
   "source": [
    "# import libraries here; add more as necessary\n",
    "import numpy as np\n",
    "import pandas as pd\n",
    "import matplotlib.pyplot as plt\n",
    "import seaborn as sns\n",
    "import pandas as pd\n",
    "from sklearn.preprocessing import StandardScaler, Imputer\n",
    "from sklearn.decomposition import PCA\n",
    "from sklearn.cluster import KMeans\n",
    "# magic word for producing visualizations in notebook\n",
    "%matplotlib inline\n",
    "\n",
    "'''\n",
    "Import note: The classroom currently uses sklearn version 0.19.\n",
    "If you need to use an imputer, it is available in sklearn.preprocessing.Imputer,\n",
    "instead of sklearn.impute as in newer versions of sklearn.\n",
    "'''"
   ]
  },
  {
   "cell_type": "markdown",
   "metadata": {},
   "source": [
    "### Step 0: Load the Data\n",
    "\n",
    "There are four files associated with this project (not including this one):\n",
    "\n",
    "- `Udacity_AZDIAS_Subset.csv`: Demographics data for the general population of Germany; 891211 persons (rows) x 85 features (columns).\n",
    "- `Udacity_CUSTOMERS_Subset.csv`: Demographics data for customers of a mail-order company; 191652 persons (rows) x 85 features (columns).\n",
    "- `Data_Dictionary.md`: Detailed information file about the features in the provided datasets.\n",
    "- `AZDIAS_Feature_Summary.csv`: Summary of feature attributes for demographics data; 85 features (rows) x 4 columns\n",
    "\n",
    "Each row of the demographics files represents a single person, but also includes information outside of individuals, including information about their household, building, and neighborhood. You will use this information to cluster the general population into groups with similar demographic properties. Then, you will see how the people in the customers dataset fit into those created clusters. The hope here is that certain clusters are over-represented in the customers data, as compared to the general population; those over-represented clusters will be assumed to be part of the core userbase. This information can then be used for further applications, such as targeting for a marketing campaign.\n",
    "\n",
    "To start off with, load in the demographics data for the general population into a pandas DataFrame, and do the same for the feature attributes summary. Note for all of the `.csv` data files in this project: they're semicolon (`;`) delimited, so you'll need an additional argument in your [`read_csv()`](https://pandas.pydata.org/pandas-docs/stable/generated/pandas.read_csv.html) call to read in the data properly. Also, considering the size of the main dataset, it may take some time for it to load completely.\n",
    "\n",
    "Once the dataset is loaded, it's recommended that you take a little bit of time just browsing the general structure of the dataset and feature summary file. You'll be getting deep into the innards of the cleaning in the first major step of the project, so gaining some general familiarity can help you get your bearings."
   ]
  },
  {
   "cell_type": "code",
   "execution_count": 2,
   "metadata": {},
   "outputs": [],
   "source": [
    "# Load in the general demographics data.\n",
    "azdias_src =  pd.read_csv('Udacity_AZDIAS_Subset.csv',sep=';')\n",
    "\n",
    "# Load in the feature summary file.\n",
    "feat_info = pd.read_csv('AZDIAS_Feature_Summary.csv',sep=';')\n"
   ]
  },
  {
   "cell_type": "code",
   "execution_count": 3,
   "metadata": {},
   "outputs": [
    {
     "data": {
      "text/plain": [
       "AGER_TYP                     0\n",
       "ALTERSKATEGORIE_GROB         0\n",
       "ANREDE_KZ                    0\n",
       "CJT_GESAMTTYP             4854\n",
       "FINANZ_MINIMALIST            0\n",
       "                         ...  \n",
       "PLZ8_HHZ                116515\n",
       "PLZ8_GBZ                116515\n",
       "ARBEIT                   97216\n",
       "ORTSGR_KLS9              97216\n",
       "RELAT_AB                 97216\n",
       "Length: 85, dtype: int64"
      ]
     },
     "execution_count": 3,
     "metadata": {},
     "output_type": "execute_result"
    }
   ],
   "source": [
    "azdias_src.isnull().sum()"
   ]
  },
  {
   "cell_type": "code",
   "execution_count": 4,
   "metadata": {},
   "outputs": [
    {
     "name": "stdout",
     "output_type": "stream",
     "text": [
      "azdias_src df:\n",
      "head: \n",
      "   AGER_TYP  ALTERSKATEGORIE_GROB  ANREDE_KZ  CJT_GESAMTTYP  \\\n",
      "0        -1                     2          1            2.0   \n",
      "1        -1                     1          2            5.0   \n",
      "2        -1                     3          2            3.0   \n",
      "3         2                     4          2            2.0   \n",
      "4        -1                     3          1            5.0   \n",
      "\n",
      "   FINANZ_MINIMALIST  FINANZ_SPARER  FINANZ_VORSORGER  FINANZ_ANLEGER  \\\n",
      "0                  3              4                 3               5   \n",
      "1                  1              5                 2               5   \n",
      "2                  1              4                 1               2   \n",
      "3                  4              2                 5               2   \n",
      "4                  4              3                 4               1   \n",
      "\n",
      "   FINANZ_UNAUFFAELLIGER  FINANZ_HAUSBAUER  ...  PLZ8_ANTG1  PLZ8_ANTG2  \\\n",
      "0                      5                 3  ...         NaN         NaN   \n",
      "1                      4                 5  ...         2.0         3.0   \n",
      "2                      3                 5  ...         3.0         3.0   \n",
      "3                      1                 2  ...         2.0         2.0   \n",
      "4                      3                 2  ...         2.0         4.0   \n",
      "\n",
      "   PLZ8_ANTG3  PLZ8_ANTG4  PLZ8_BAUMAX  PLZ8_HHZ  PLZ8_GBZ  ARBEIT  \\\n",
      "0         NaN         NaN          NaN       NaN       NaN     NaN   \n",
      "1         2.0         1.0          1.0       5.0       4.0     3.0   \n",
      "2         1.0         0.0          1.0       4.0       4.0     3.0   \n",
      "3         2.0         0.0          1.0       3.0       4.0     2.0   \n",
      "4         2.0         1.0          2.0       3.0       3.0     4.0   \n",
      "\n",
      "   ORTSGR_KLS9  RELAT_AB  \n",
      "0          NaN       NaN  \n",
      "1          5.0       4.0  \n",
      "2          5.0       2.0  \n",
      "3          3.0       3.0  \n",
      "4          6.0       5.0  \n",
      "\n",
      "[5 rows x 85 columns]\n"
     ]
    },
    {
     "data": {
      "text/html": [
       "<div>\n",
       "<style scoped>\n",
       "    .dataframe tbody tr th:only-of-type {\n",
       "        vertical-align: middle;\n",
       "    }\n",
       "\n",
       "    .dataframe tbody tr th {\n",
       "        vertical-align: top;\n",
       "    }\n",
       "\n",
       "    .dataframe thead th {\n",
       "        text-align: right;\n",
       "    }\n",
       "</style>\n",
       "<table border=\"1\" class=\"dataframe\">\n",
       "  <thead>\n",
       "    <tr style=\"text-align: right;\">\n",
       "      <th></th>\n",
       "      <th>AGER_TYP</th>\n",
       "      <th>ALTERSKATEGORIE_GROB</th>\n",
       "      <th>ANREDE_KZ</th>\n",
       "      <th>CJT_GESAMTTYP</th>\n",
       "      <th>FINANZ_MINIMALIST</th>\n",
       "      <th>FINANZ_SPARER</th>\n",
       "      <th>FINANZ_VORSORGER</th>\n",
       "      <th>FINANZ_ANLEGER</th>\n",
       "      <th>FINANZ_UNAUFFAELLIGER</th>\n",
       "      <th>FINANZ_HAUSBAUER</th>\n",
       "      <th>...</th>\n",
       "      <th>PLZ8_ANTG1</th>\n",
       "      <th>PLZ8_ANTG2</th>\n",
       "      <th>PLZ8_ANTG3</th>\n",
       "      <th>PLZ8_ANTG4</th>\n",
       "      <th>PLZ8_BAUMAX</th>\n",
       "      <th>PLZ8_HHZ</th>\n",
       "      <th>PLZ8_GBZ</th>\n",
       "      <th>ARBEIT</th>\n",
       "      <th>ORTSGR_KLS9</th>\n",
       "      <th>RELAT_AB</th>\n",
       "    </tr>\n",
       "  </thead>\n",
       "  <tbody>\n",
       "    <tr>\n",
       "      <td>count</td>\n",
       "      <td>891221.000000</td>\n",
       "      <td>891221.000000</td>\n",
       "      <td>891221.000000</td>\n",
       "      <td>886367.000000</td>\n",
       "      <td>891221.000000</td>\n",
       "      <td>891221.000000</td>\n",
       "      <td>891221.000000</td>\n",
       "      <td>891221.000000</td>\n",
       "      <td>891221.000000</td>\n",
       "      <td>891221.000000</td>\n",
       "      <td>...</td>\n",
       "      <td>774706.000000</td>\n",
       "      <td>774706.000000</td>\n",
       "      <td>774706.000000</td>\n",
       "      <td>774706.000000</td>\n",
       "      <td>774706.000000</td>\n",
       "      <td>774706.000000</td>\n",
       "      <td>774706.000000</td>\n",
       "      <td>794005.000000</td>\n",
       "      <td>794005.000000</td>\n",
       "      <td>794005.00000</td>\n",
       "    </tr>\n",
       "    <tr>\n",
       "      <td>mean</td>\n",
       "      <td>-0.358435</td>\n",
       "      <td>2.777398</td>\n",
       "      <td>1.522098</td>\n",
       "      <td>3.632838</td>\n",
       "      <td>3.074528</td>\n",
       "      <td>2.821039</td>\n",
       "      <td>3.401106</td>\n",
       "      <td>3.033328</td>\n",
       "      <td>2.874167</td>\n",
       "      <td>3.075121</td>\n",
       "      <td>...</td>\n",
       "      <td>2.253330</td>\n",
       "      <td>2.801858</td>\n",
       "      <td>1.595426</td>\n",
       "      <td>0.699166</td>\n",
       "      <td>1.943913</td>\n",
       "      <td>3.612821</td>\n",
       "      <td>3.381087</td>\n",
       "      <td>3.167854</td>\n",
       "      <td>5.293002</td>\n",
       "      <td>3.07222</td>\n",
       "    </tr>\n",
       "    <tr>\n",
       "      <td>std</td>\n",
       "      <td>1.198724</td>\n",
       "      <td>1.068775</td>\n",
       "      <td>0.499512</td>\n",
       "      <td>1.595021</td>\n",
       "      <td>1.321055</td>\n",
       "      <td>1.464749</td>\n",
       "      <td>1.322134</td>\n",
       "      <td>1.529603</td>\n",
       "      <td>1.486731</td>\n",
       "      <td>1.353248</td>\n",
       "      <td>...</td>\n",
       "      <td>0.972008</td>\n",
       "      <td>0.920309</td>\n",
       "      <td>0.986736</td>\n",
       "      <td>0.727137</td>\n",
       "      <td>1.459654</td>\n",
       "      <td>0.973967</td>\n",
       "      <td>1.111598</td>\n",
       "      <td>1.002376</td>\n",
       "      <td>2.303739</td>\n",
       "      <td>1.36298</td>\n",
       "    </tr>\n",
       "    <tr>\n",
       "      <td>min</td>\n",
       "      <td>-1.000000</td>\n",
       "      <td>1.000000</td>\n",
       "      <td>1.000000</td>\n",
       "      <td>1.000000</td>\n",
       "      <td>1.000000</td>\n",
       "      <td>1.000000</td>\n",
       "      <td>1.000000</td>\n",
       "      <td>1.000000</td>\n",
       "      <td>1.000000</td>\n",
       "      <td>1.000000</td>\n",
       "      <td>...</td>\n",
       "      <td>0.000000</td>\n",
       "      <td>0.000000</td>\n",
       "      <td>0.000000</td>\n",
       "      <td>0.000000</td>\n",
       "      <td>1.000000</td>\n",
       "      <td>1.000000</td>\n",
       "      <td>1.000000</td>\n",
       "      <td>1.000000</td>\n",
       "      <td>0.000000</td>\n",
       "      <td>1.00000</td>\n",
       "    </tr>\n",
       "    <tr>\n",
       "      <td>25%</td>\n",
       "      <td>-1.000000</td>\n",
       "      <td>2.000000</td>\n",
       "      <td>1.000000</td>\n",
       "      <td>2.000000</td>\n",
       "      <td>2.000000</td>\n",
       "      <td>1.000000</td>\n",
       "      <td>3.000000</td>\n",
       "      <td>2.000000</td>\n",
       "      <td>2.000000</td>\n",
       "      <td>2.000000</td>\n",
       "      <td>...</td>\n",
       "      <td>1.000000</td>\n",
       "      <td>2.000000</td>\n",
       "      <td>1.000000</td>\n",
       "      <td>0.000000</td>\n",
       "      <td>1.000000</td>\n",
       "      <td>3.000000</td>\n",
       "      <td>3.000000</td>\n",
       "      <td>3.000000</td>\n",
       "      <td>4.000000</td>\n",
       "      <td>2.00000</td>\n",
       "    </tr>\n",
       "    <tr>\n",
       "      <td>50%</td>\n",
       "      <td>-1.000000</td>\n",
       "      <td>3.000000</td>\n",
       "      <td>2.000000</td>\n",
       "      <td>4.000000</td>\n",
       "      <td>3.000000</td>\n",
       "      <td>3.000000</td>\n",
       "      <td>3.000000</td>\n",
       "      <td>3.000000</td>\n",
       "      <td>3.000000</td>\n",
       "      <td>3.000000</td>\n",
       "      <td>...</td>\n",
       "      <td>2.000000</td>\n",
       "      <td>3.000000</td>\n",
       "      <td>2.000000</td>\n",
       "      <td>1.000000</td>\n",
       "      <td>1.000000</td>\n",
       "      <td>4.000000</td>\n",
       "      <td>3.000000</td>\n",
       "      <td>3.000000</td>\n",
       "      <td>5.000000</td>\n",
       "      <td>3.00000</td>\n",
       "    </tr>\n",
       "    <tr>\n",
       "      <td>75%</td>\n",
       "      <td>-1.000000</td>\n",
       "      <td>4.000000</td>\n",
       "      <td>2.000000</td>\n",
       "      <td>5.000000</td>\n",
       "      <td>4.000000</td>\n",
       "      <td>4.000000</td>\n",
       "      <td>5.000000</td>\n",
       "      <td>5.000000</td>\n",
       "      <td>4.000000</td>\n",
       "      <td>4.000000</td>\n",
       "      <td>...</td>\n",
       "      <td>3.000000</td>\n",
       "      <td>3.000000</td>\n",
       "      <td>2.000000</td>\n",
       "      <td>1.000000</td>\n",
       "      <td>3.000000</td>\n",
       "      <td>4.000000</td>\n",
       "      <td>4.000000</td>\n",
       "      <td>4.000000</td>\n",
       "      <td>7.000000</td>\n",
       "      <td>4.00000</td>\n",
       "    </tr>\n",
       "    <tr>\n",
       "      <td>max</td>\n",
       "      <td>3.000000</td>\n",
       "      <td>9.000000</td>\n",
       "      <td>2.000000</td>\n",
       "      <td>6.000000</td>\n",
       "      <td>5.000000</td>\n",
       "      <td>5.000000</td>\n",
       "      <td>5.000000</td>\n",
       "      <td>5.000000</td>\n",
       "      <td>5.000000</td>\n",
       "      <td>5.000000</td>\n",
       "      <td>...</td>\n",
       "      <td>4.000000</td>\n",
       "      <td>4.000000</td>\n",
       "      <td>3.000000</td>\n",
       "      <td>2.000000</td>\n",
       "      <td>5.000000</td>\n",
       "      <td>5.000000</td>\n",
       "      <td>5.000000</td>\n",
       "      <td>9.000000</td>\n",
       "      <td>9.000000</td>\n",
       "      <td>9.00000</td>\n",
       "    </tr>\n",
       "  </tbody>\n",
       "</table>\n",
       "<p>8 rows × 81 columns</p>\n",
       "</div>"
      ],
      "text/plain": [
       "            AGER_TYP  ALTERSKATEGORIE_GROB      ANREDE_KZ  CJT_GESAMTTYP  \\\n",
       "count  891221.000000         891221.000000  891221.000000  886367.000000   \n",
       "mean       -0.358435              2.777398       1.522098       3.632838   \n",
       "std         1.198724              1.068775       0.499512       1.595021   \n",
       "min        -1.000000              1.000000       1.000000       1.000000   \n",
       "25%        -1.000000              2.000000       1.000000       2.000000   \n",
       "50%        -1.000000              3.000000       2.000000       4.000000   \n",
       "75%        -1.000000              4.000000       2.000000       5.000000   \n",
       "max         3.000000              9.000000       2.000000       6.000000   \n",
       "\n",
       "       FINANZ_MINIMALIST  FINANZ_SPARER  FINANZ_VORSORGER  FINANZ_ANLEGER  \\\n",
       "count      891221.000000  891221.000000     891221.000000   891221.000000   \n",
       "mean            3.074528       2.821039          3.401106        3.033328   \n",
       "std             1.321055       1.464749          1.322134        1.529603   \n",
       "min             1.000000       1.000000          1.000000        1.000000   \n",
       "25%             2.000000       1.000000          3.000000        2.000000   \n",
       "50%             3.000000       3.000000          3.000000        3.000000   \n",
       "75%             4.000000       4.000000          5.000000        5.000000   \n",
       "max             5.000000       5.000000          5.000000        5.000000   \n",
       "\n",
       "       FINANZ_UNAUFFAELLIGER  FINANZ_HAUSBAUER  ...     PLZ8_ANTG1  \\\n",
       "count          891221.000000     891221.000000  ...  774706.000000   \n",
       "mean                2.874167          3.075121  ...       2.253330   \n",
       "std                 1.486731          1.353248  ...       0.972008   \n",
       "min                 1.000000          1.000000  ...       0.000000   \n",
       "25%                 2.000000          2.000000  ...       1.000000   \n",
       "50%                 3.000000          3.000000  ...       2.000000   \n",
       "75%                 4.000000          4.000000  ...       3.000000   \n",
       "max                 5.000000          5.000000  ...       4.000000   \n",
       "\n",
       "          PLZ8_ANTG2     PLZ8_ANTG3     PLZ8_ANTG4    PLZ8_BAUMAX  \\\n",
       "count  774706.000000  774706.000000  774706.000000  774706.000000   \n",
       "mean        2.801858       1.595426       0.699166       1.943913   \n",
       "std         0.920309       0.986736       0.727137       1.459654   \n",
       "min         0.000000       0.000000       0.000000       1.000000   \n",
       "25%         2.000000       1.000000       0.000000       1.000000   \n",
       "50%         3.000000       2.000000       1.000000       1.000000   \n",
       "75%         3.000000       2.000000       1.000000       3.000000   \n",
       "max         4.000000       3.000000       2.000000       5.000000   \n",
       "\n",
       "            PLZ8_HHZ       PLZ8_GBZ         ARBEIT    ORTSGR_KLS9  \\\n",
       "count  774706.000000  774706.000000  794005.000000  794005.000000   \n",
       "mean        3.612821       3.381087       3.167854       5.293002   \n",
       "std         0.973967       1.111598       1.002376       2.303739   \n",
       "min         1.000000       1.000000       1.000000       0.000000   \n",
       "25%         3.000000       3.000000       3.000000       4.000000   \n",
       "50%         4.000000       3.000000       3.000000       5.000000   \n",
       "75%         4.000000       4.000000       4.000000       7.000000   \n",
       "max         5.000000       5.000000       9.000000       9.000000   \n",
       "\n",
       "           RELAT_AB  \n",
       "count  794005.00000  \n",
       "mean        3.07222  \n",
       "std         1.36298  \n",
       "min         1.00000  \n",
       "25%         2.00000  \n",
       "50%         3.00000  \n",
       "75%         4.00000  \n",
       "max         9.00000  \n",
       "\n",
       "[8 rows x 81 columns]"
      ]
     },
     "execution_count": 4,
     "metadata": {},
     "output_type": "execute_result"
    }
   ],
   "source": [
    "print(\"azdias_src df:\")\n",
    "print(\"head: \")\n",
    "print(azdias_src.head(5))\n",
    "# azdias_src.info()\n",
    "azdias_src.describe()"
   ]
  },
  {
   "cell_type": "code",
   "execution_count": 5,
   "metadata": {},
   "outputs": [
    {
     "name": "stdout",
     "output_type": "stream",
     "text": [
      "feat_info df:\n",
      "               attribute information_level         type missing_or_unknown\n",
      "0               AGER_TYP            person  categorical             [-1,0]\n",
      "1   ALTERSKATEGORIE_GROB            person      ordinal           [-1,0,9]\n",
      "2              ANREDE_KZ            person  categorical             [-1,0]\n",
      "3          CJT_GESAMTTYP            person  categorical                [0]\n",
      "4      FINANZ_MINIMALIST            person      ordinal               [-1]\n",
      "..                   ...               ...          ...                ...\n",
      "80              PLZ8_HHZ    macrocell_plz8      ordinal               [-1]\n",
      "81              PLZ8_GBZ    macrocell_plz8      ordinal               [-1]\n",
      "82                ARBEIT         community      ordinal             [-1,9]\n",
      "83           ORTSGR_KLS9         community      ordinal             [-1,0]\n",
      "84              RELAT_AB         community      ordinal             [-1,9]\n",
      "\n",
      "[85 rows x 4 columns]\n"
     ]
    },
    {
     "data": {
      "text/html": [
       "<div>\n",
       "<style scoped>\n",
       "    .dataframe tbody tr th:only-of-type {\n",
       "        vertical-align: middle;\n",
       "    }\n",
       "\n",
       "    .dataframe tbody tr th {\n",
       "        vertical-align: top;\n",
       "    }\n",
       "\n",
       "    .dataframe thead th {\n",
       "        text-align: right;\n",
       "    }\n",
       "</style>\n",
       "<table border=\"1\" class=\"dataframe\">\n",
       "  <thead>\n",
       "    <tr style=\"text-align: right;\">\n",
       "      <th></th>\n",
       "      <th>attribute</th>\n",
       "      <th>information_level</th>\n",
       "      <th>type</th>\n",
       "      <th>missing_or_unknown</th>\n",
       "    </tr>\n",
       "  </thead>\n",
       "  <tbody>\n",
       "    <tr>\n",
       "      <td>count</td>\n",
       "      <td>85</td>\n",
       "      <td>85</td>\n",
       "      <td>85</td>\n",
       "      <td>85</td>\n",
       "    </tr>\n",
       "    <tr>\n",
       "      <td>unique</td>\n",
       "      <td>85</td>\n",
       "      <td>9</td>\n",
       "      <td>5</td>\n",
       "      <td>9</td>\n",
       "    </tr>\n",
       "    <tr>\n",
       "      <td>top</td>\n",
       "      <td>ANZ_HAUSHALTE_AKTIV</td>\n",
       "      <td>person</td>\n",
       "      <td>ordinal</td>\n",
       "      <td>[-1]</td>\n",
       "    </tr>\n",
       "    <tr>\n",
       "      <td>freq</td>\n",
       "      <td>1</td>\n",
       "      <td>43</td>\n",
       "      <td>49</td>\n",
       "      <td>26</td>\n",
       "    </tr>\n",
       "  </tbody>\n",
       "</table>\n",
       "</div>"
      ],
      "text/plain": [
       "                  attribute information_level     type missing_or_unknown\n",
       "count                    85                85       85                 85\n",
       "unique                   85                 9        5                  9\n",
       "top     ANZ_HAUSHALTE_AKTIV            person  ordinal               [-1]\n",
       "freq                      1                43       49                 26"
      ]
     },
     "execution_count": 5,
     "metadata": {},
     "output_type": "execute_result"
    }
   ],
   "source": [
    "print(\"feat_info df:\")\n",
    "print(feat_info.head(85))\n",
    "# feat_info.info()\n",
    "feat_info.describe()"
   ]
  },
  {
   "cell_type": "code",
   "execution_count": 6,
   "metadata": {},
   "outputs": [],
   "source": [
    "# Check the structure of the data after it's loaded (e.g. print the number of\n",
    "# rows and columns, print the first few rows).\n",
    "\n"
   ]
  },
  {
   "cell_type": "markdown",
   "metadata": {},
   "source": [
    "> **Tip**: Add additional cells to keep everything in reasonably-sized chunks! Keyboard shortcut `esc --> a` (press escape to enter command mode, then press the 'A' key) adds a new cell before the active cell, and `esc --> b` adds a new cell after the active cell. If you need to convert an active cell to a markdown cell, use `esc --> m` and to convert to a code cell, use `esc --> y`. \n",
    "\n",
    "## Step 1: Preprocessing\n",
    "\n",
    "### Step 1.1: Assess Missing Data\n",
    "\n",
    "The feature summary file contains a summary of properties for each demographics data column. You will use this file to help you make cleaning decisions during this stage of the project. First of all, you should assess the demographics data in terms of missing data. Pay attention to the following points as you perform your analysis, and take notes on what you observe. Make sure that you fill in the **Discussion** cell with your findings and decisions at the end of each step that has one!\n",
    "\n",
    "#### Step 1.1.1: Convert Missing Value Codes to NaNs\n",
    "The fourth column of the feature attributes summary (loaded in above as `feat_info`) documents the codes from the data dictionary that indicate missing or unknown data. While the file encodes this as a list (e.g. `[-1,0]`), this will get read in as a string object. You'll need to do a little bit of parsing to make use of it to identify and clean the data. Convert data that matches a 'missing' or 'unknown' value code into a numpy NaN value. You might want to see how much data takes on a 'missing' or 'unknown' code, and how much data is naturally missing, as a point of interest.\n",
    "\n",
    "**As one more reminder, you are encouraged to add additional cells to break up your analysis into manageable chunks.**"
   ]
  },
  {
   "cell_type": "code",
   "execution_count": 7,
   "metadata": {},
   "outputs": [],
   "source": [
    "# Identify missing or unknown data values and convert them to NaNs.\n",
    "\n"
   ]
  },
  {
   "cell_type": "code",
   "execution_count": 8,
   "metadata": {},
   "outputs": [],
   "source": [
    "\n",
    "def string_list_to_list(string_list):\n",
    "    \"\"\"\n",
    "    @param string_list: assuming list is reperesnted as string: '[1,2,3]', '[-1,XX]' and co..\n",
    "    \"\"\"\n",
    "    # remove starting and ending spaces with strip\n",
    "    remove_brackets = string_list.strip()[1:-1]\n",
    "    if len(remove_brackets) == 0:\n",
    "        return list()\n",
    "    else:\n",
    "        remove_brackets =  remove_brackets.split(',')\n",
    "        return [int(x) if (x.isdigit() or x=='-1') is True else x for x in remove_brackets]\n",
    "\n",
    "\n"
   ]
  },
  {
   "cell_type": "code",
   "execution_count": 9,
   "metadata": {},
   "outputs": [
    {
     "name": "stdout",
     "output_type": "stream",
     "text": [
      "[1,2,3] to list:  [1, 2, 3]\n",
      "[-1,XX] to list:  [-1, 'XX']\n",
      "[] to list:  []\n",
      "[-1,9] to list:  [-1, 9]\n"
     ]
    }
   ],
   "source": [
    "missing_or_unknown_word='[1,2,3]'\n",
    "print(missing_or_unknown_word, \"to list: \",string_list_to_list(missing_or_unknown_word))\n",
    "\n",
    "missing_or_unknown_word='[-1,XX]'\n",
    "print(missing_or_unknown_word, \"to list: \",string_list_to_list(missing_or_unknown_word))\n",
    "\n",
    "missing_or_unknown_word='[]'\n",
    "print(missing_or_unknown_word, \"to list: \",string_list_to_list(missing_or_unknown_word))\n",
    "\n",
    "missing_or_unknown_word='[-1,9]'\n",
    "print(missing_or_unknown_word, \"to list: \",string_list_to_list(missing_or_unknown_word))"
   ]
  },
  {
   "cell_type": "code",
   "execution_count": 10,
   "metadata": {},
   "outputs": [],
   "source": [
    "azdias = azdias_src.copy()"
   ]
  },
  {
   "cell_type": "code",
   "execution_count": 11,
   "metadata": {},
   "outputs": [],
   "source": [
    "\n",
    "for i in range(len(feat_info)):\n",
    "    feature_info_row = feat_info.iloc[i]\n",
    "    missing_or_unknown= feature_info_row['missing_or_unknown'] # '[-1,9]'\n",
    "    attribute = feature_info_row['attribute'] # row in \n",
    "    nan_list = string_list_to_list(missing_or_unknown) # ['-1', '9']    \n",
    "    if len(nan_list) > 0: # onley for cases \n",
    "        azdias[attribute].replace(to_replace=nan_list, value=np.nan, inplace=True)\n",
    "\n"
   ]
  },
  {
   "cell_type": "code",
   "execution_count": 12,
   "metadata": {},
   "outputs": [
    {
     "name": "stdout",
     "output_type": "stream",
     "text": [
      "AGER_TYP missing value:  0    [-1,0]\n",
      "Name: missing_or_unknown, dtype: object\n",
      "before:  1    -1\n",
      "17   -1\n",
      "22   -1\n",
      "Name: AGER_TYP, dtype: int64\n",
      "after:  1    NaN\n",
      "17   NaN\n",
      "22   NaN\n",
      "Name: AGER_TYP, dtype: float64\n"
     ]
    }
   ],
   "source": [
    "feature_attribute='AGER_TYP'\n",
    "selected_indexes = [1,17,22]\n",
    "print(feature_attribute, \"missing value: \", feat_info[feat_info['attribute']==feature_attribute]['missing_or_unknown'])\n",
    "print(\"before: \", azdias_src.loc[selected_indexes][feature_attribute])\n",
    "print(\"after: \", azdias.loc[selected_indexes][feature_attribute])"
   ]
  },
  {
   "cell_type": "code",
   "execution_count": 13,
   "metadata": {},
   "outputs": [
    {
     "name": "stdout",
     "output_type": "stream",
     "text": [
      "Number of missing values in azdias_src 4896838\n",
      "Number of missing values in azdias 8373929\n"
     ]
    },
    {
     "data": {
      "text/html": [
       "<div>\n",
       "<style scoped>\n",
       "    .dataframe tbody tr th:only-of-type {\n",
       "        vertical-align: middle;\n",
       "    }\n",
       "\n",
       "    .dataframe tbody tr th {\n",
       "        vertical-align: top;\n",
       "    }\n",
       "\n",
       "    .dataframe thead th {\n",
       "        text-align: right;\n",
       "    }\n",
       "</style>\n",
       "<table border=\"1\" class=\"dataframe\">\n",
       "  <thead>\n",
       "    <tr style=\"text-align: right;\">\n",
       "      <th></th>\n",
       "      <th>before_clean</th>\n",
       "      <th>after</th>\n",
       "    </tr>\n",
       "  </thead>\n",
       "  <tbody>\n",
       "    <tr>\n",
       "      <td>AGER_TYP</td>\n",
       "      <td>685843</td>\n",
       "      <td>0</td>\n",
       "    </tr>\n",
       "    <tr>\n",
       "      <td>ALTERSKATEGORIE_GROB</td>\n",
       "      <td>2881</td>\n",
       "      <td>0</td>\n",
       "    </tr>\n",
       "    <tr>\n",
       "      <td>ANREDE_KZ</td>\n",
       "      <td>0</td>\n",
       "      <td>0</td>\n",
       "    </tr>\n",
       "    <tr>\n",
       "      <td>CJT_GESAMTTYP</td>\n",
       "      <td>4854</td>\n",
       "      <td>4854</td>\n",
       "    </tr>\n",
       "    <tr>\n",
       "      <td>FINANZ_MINIMALIST</td>\n",
       "      <td>0</td>\n",
       "      <td>0</td>\n",
       "    </tr>\n",
       "    <tr>\n",
       "      <td>...</td>\n",
       "      <td>...</td>\n",
       "      <td>...</td>\n",
       "    </tr>\n",
       "    <tr>\n",
       "      <td>PLZ8_HHZ</td>\n",
       "      <td>116515</td>\n",
       "      <td>116515</td>\n",
       "    </tr>\n",
       "    <tr>\n",
       "      <td>PLZ8_GBZ</td>\n",
       "      <td>116515</td>\n",
       "      <td>116515</td>\n",
       "    </tr>\n",
       "    <tr>\n",
       "      <td>ARBEIT</td>\n",
       "      <td>97375</td>\n",
       "      <td>97216</td>\n",
       "    </tr>\n",
       "    <tr>\n",
       "      <td>ORTSGR_KLS9</td>\n",
       "      <td>97274</td>\n",
       "      <td>97216</td>\n",
       "    </tr>\n",
       "    <tr>\n",
       "      <td>RELAT_AB</td>\n",
       "      <td>97375</td>\n",
       "      <td>97216</td>\n",
       "    </tr>\n",
       "  </tbody>\n",
       "</table>\n",
       "<p>85 rows × 2 columns</p>\n",
       "</div>"
      ],
      "text/plain": [
       "                      before_clean   after\n",
       "AGER_TYP                    685843       0\n",
       "ALTERSKATEGORIE_GROB          2881       0\n",
       "ANREDE_KZ                        0       0\n",
       "CJT_GESAMTTYP                 4854    4854\n",
       "FINANZ_MINIMALIST                0       0\n",
       "...                            ...     ...\n",
       "PLZ8_HHZ                    116515  116515\n",
       "PLZ8_GBZ                    116515  116515\n",
       "ARBEIT                       97375   97216\n",
       "ORTSGR_KLS9                  97274   97216\n",
       "RELAT_AB                     97375   97216\n",
       "\n",
       "[85 rows x 2 columns]"
      ]
     },
     "metadata": {},
     "output_type": "display_data"
    }
   ],
   "source": [
    "print('Number of missing values in azdias_src {}'.format(azdias_src.isnull().sum().sum()))\n",
    "print('Number of missing values in azdias {}'.format(azdias.isnull().sum().sum()))\n",
    "\n",
    "azdias_src_sum_of_nulls=azdias_src.isnull().sum()\n",
    "azdias_sum_of_nulls=azdias.isnull().sum()\n",
    "\n",
    "azdias_nulls_dist = pd.DataFrame({\"before_clean\": azdias_sum_of_nulls, \"after\": azdias_src_sum_of_nulls})\n",
    "display(azdias_nulls_dist)"
   ]
  },
  {
   "cell_type": "markdown",
   "metadata": {},
   "source": [
    "#### Step 1.1.2: Assess Missing Data in Each Column\n",
    "\n",
    "How much missing data is present in each column? There are a few columns that are outliers in terms of the proportion of values that are missing. You will want to use matplotlib's [`hist()`](https://matplotlib.org/api/_as_gen/matplotlib.pyplot.hist.html) function to visualize the distribution of missing value counts to find these columns. Identify and document these columns. While some of these columns might have justifications for keeping or re-encoding the data, for this project you should just remove them from the dataframe. (Feel free to make remarks about these outlier columns in the discussion, however!)\n",
    "\n",
    "For the remaining features, are there any patterns in which columns have, or share, missing data?"
   ]
  },
  {
   "cell_type": "code",
   "execution_count": 14,
   "metadata": {},
   "outputs": [],
   "source": [
    "# Perform an assessment of how much missing data there is in each column of the\n",
    "# dataset.\n",
    "num_of_rows = azdias.shape[0] # 891221\n",
    "\n",
    "percent_missing_per_column =(azdias_sum_of_nulls/num_of_rows)*100"
   ]
  },
  {
   "cell_type": "code",
   "execution_count": 15,
   "metadata": {},
   "outputs": [
    {
     "data": {
      "text/html": [
       "<div>\n",
       "<style scoped>\n",
       "    .dataframe tbody tr th:only-of-type {\n",
       "        vertical-align: middle;\n",
       "    }\n",
       "\n",
       "    .dataframe tbody tr th {\n",
       "        vertical-align: top;\n",
       "    }\n",
       "\n",
       "    .dataframe thead th {\n",
       "        text-align: right;\n",
       "    }\n",
       "</style>\n",
       "<table border=\"1\" class=\"dataframe\">\n",
       "  <thead>\n",
       "    <tr style=\"text-align: right;\">\n",
       "      <th></th>\n",
       "      <th>sum_of_nulls</th>\n",
       "      <th>percentage</th>\n",
       "    </tr>\n",
       "  </thead>\n",
       "  <tbody>\n",
       "    <tr>\n",
       "      <td>TITEL_KZ</td>\n",
       "      <td>889061</td>\n",
       "      <td>99.757636</td>\n",
       "    </tr>\n",
       "    <tr>\n",
       "      <td>AGER_TYP</td>\n",
       "      <td>685843</td>\n",
       "      <td>76.955435</td>\n",
       "    </tr>\n",
       "    <tr>\n",
       "      <td>KK_KUNDENTYP</td>\n",
       "      <td>584612</td>\n",
       "      <td>65.596749</td>\n",
       "    </tr>\n",
       "    <tr>\n",
       "      <td>KBA05_BAUMAX</td>\n",
       "      <td>476524</td>\n",
       "      <td>53.468668</td>\n",
       "    </tr>\n",
       "    <tr>\n",
       "      <td>GEBURTSJAHR</td>\n",
       "      <td>392318</td>\n",
       "      <td>44.020282</td>\n",
       "    </tr>\n",
       "    <tr>\n",
       "      <td>...</td>\n",
       "      <td>...</td>\n",
       "      <td>...</td>\n",
       "    </tr>\n",
       "    <tr>\n",
       "      <td>SEMIO_RAT</td>\n",
       "      <td>0</td>\n",
       "      <td>0.000000</td>\n",
       "    </tr>\n",
       "    <tr>\n",
       "      <td>SEMIO_KRIT</td>\n",
       "      <td>0</td>\n",
       "      <td>0.000000</td>\n",
       "    </tr>\n",
       "    <tr>\n",
       "      <td>SEMIO_DOM</td>\n",
       "      <td>0</td>\n",
       "      <td>0.000000</td>\n",
       "    </tr>\n",
       "    <tr>\n",
       "      <td>SEMIO_TRADV</td>\n",
       "      <td>0</td>\n",
       "      <td>0.000000</td>\n",
       "    </tr>\n",
       "    <tr>\n",
       "      <td>ZABEOTYP</td>\n",
       "      <td>0</td>\n",
       "      <td>0.000000</td>\n",
       "    </tr>\n",
       "  </tbody>\n",
       "</table>\n",
       "<p>85 rows × 2 columns</p>\n",
       "</div>"
      ],
      "text/plain": [
       "              sum_of_nulls  percentage\n",
       "TITEL_KZ            889061   99.757636\n",
       "AGER_TYP            685843   76.955435\n",
       "KK_KUNDENTYP        584612   65.596749\n",
       "KBA05_BAUMAX        476524   53.468668\n",
       "GEBURTSJAHR         392318   44.020282\n",
       "...                    ...         ...\n",
       "SEMIO_RAT                0    0.000000\n",
       "SEMIO_KRIT               0    0.000000\n",
       "SEMIO_DOM                0    0.000000\n",
       "SEMIO_TRADV              0    0.000000\n",
       "ZABEOTYP                 0    0.000000\n",
       "\n",
       "[85 rows x 2 columns]"
      ]
     },
     "metadata": {},
     "output_type": "display_data"
    }
   ],
   "source": [
    "azdias_nulls_perc = pd.DataFrame({\"sum_of_nulls\": azdias_sum_of_nulls, \"percentage\": percent_missing_per_column})\n",
    "display(azdias_nulls_perc.sort_values(by='percentage', ascending=False))"
   ]
  },
  {
   "cell_type": "code",
   "execution_count": 16,
   "metadata": {},
   "outputs": [
    {
     "data": {
      "image/png": "[encoded data removed]",
      "text/plain": [
       "<Figure size 432x288 with 1 Axes>"
      ]
     },
     "metadata": {
      "needs_background": "light"
     },
     "output_type": "display_data"
    }
   ],
   "source": [
    "\n",
    "azdias_nulls_perc.hist(column = 'percentage', bins = 25 )\n",
    "\n",
    "plt.xlabel('percentage of missing values')\n",
    "plt.ylabel('counts')\n",
    "plt.title('Histogram for number of missing values')\n",
    "plt.show()\n"
   ]
  },
  {
   "cell_type": "code",
   "execution_count": 17,
   "metadata": {},
   "outputs": [
    {
     "data": {
      "image/png": "[encoded data removed]",
      "text/plain": [
       "<Figure size 1440x2160 with 1 Axes>"
      ]
     },
     "metadata": {
      "needs_background": "light"
     },
     "output_type": "display_data"
    }
   ],
   "source": [
    "# Investigate patterns in the amount of missing data in each column.\n",
    "\n",
    "azdias_nulls_perc.sort_values(by='percentage', ascending=True).plot.barh(figsize=(20,30))\n",
    "plt.xlabel('percentage of missing values for each column')\n",
    "plt.ylabel('column name with missing values')\n",
    "plt.show()"
   ]
  },
  {
   "cell_type": "code",
   "execution_count": 18,
   "metadata": {},
   "outputs": [
    {
     "name": "stdout",
     "output_type": "stream",
     "text": [
      "6 outliers_columns:  Index(['AGER_TYP', 'GEBURTSJAHR', 'TITEL_KZ', 'ALTER_HH', 'KK_KUNDENTYP',\n",
      "       'KBA05_BAUMAX'],\n",
      "      dtype='object')\n"
     ]
    }
   ],
   "source": [
    "# Remove the outlier columns from the dataset. (You'll perform other data\n",
    "# engineering tasks such as re-encoding and imputation later.)\n",
    "\n",
    "outliers_columns = azdias_nulls_perc[azdias_nulls_perc['percentage']>20].index\n",
    "print(len(outliers_columns), \"outliers_columns: \", outliers_columns) "
   ]
  },
  {
   "cell_type": "code",
   "execution_count": 19,
   "metadata": {},
   "outputs": [],
   "source": [
    "azdias.drop(columns=outliers_columns,axis=\"columns\",inplace=True)"
   ]
  },
  {
   "cell_type": "code",
   "execution_count": 20,
   "metadata": {},
   "outputs": [
    {
     "data": {
      "text/plain": [
       "(891221, 79)"
      ]
     },
     "execution_count": 20,
     "metadata": {},
     "output_type": "execute_result"
    }
   ],
   "source": [
    "azdias.shape"
   ]
  },
  {
   "cell_type": "markdown",
   "metadata": {},
   "source": [
    "#### Discussion 1.1.2: Assess Missing Data in Each Column\n",
    "\n",
    "(Double click this cell and replace this text with your own text, reporting your observations regarding the amount of missing data in each column. Are there any patterns in missing values? Which columns were removed from the dataset?)\n",
    "\n",
    "\n",
    "**Answer:**\n",
    "Choosing an outlier thresold of 20 % drops the following 6 columns: 'AGER_TYP', 'GEBURTSJAHR', 'TITEL_KZ', 'ALTER_HH', 'KK_KUNDENTYP', 'KBA05_BAUMAX'.\n",
    "\n",
    "Aka, keeping 79 columns. "
   ]
  },
  {
   "cell_type": "markdown",
   "metadata": {},
   "source": [
    "#### Step 1.1.3: Assess Missing Data in Each Row\n",
    "\n",
    "Now, you'll perform a similar assessment for the rows of the dataset. How much data is missing in each row? As with the columns, you should see some groups of points that have a very different numbers of missing values. Divide the data into two subsets: one for data points that are above some threshold for missing values, and a second subset for points below that threshold.\n",
    "\n",
    "In order to know what to do with the outlier rows, we should see if the distribution of data values on columns that are not missing data (or are missing very little data) are similar or different between the two groups. Select at least five of these columns and compare the distribution of values.\n",
    "- You can use seaborn's [`countplot()`](https://seaborn.pydata.org/generated/seaborn.countplot.html) function to create a bar chart of code frequencies and matplotlib's [`subplot()`](https://matplotlib.org/api/_as_gen/matplotlib.pyplot.subplot.html) function to put bar charts for the two subplots side by side.\n",
    "- To reduce repeated code, you might want to write a function that can perform this comparison, taking as one of its arguments a column to be compared.\n",
    "\n",
    "Depending on what you observe in your comparison, this will have implications on how you approach your conclusions later in the analysis. If the distributions of non-missing features look similar between the data with many missing values and the data with few or no missing values, then we could argue that simply dropping those points from the analysis won't present a major issue. On the other hand, if the data with many missing values looks very different from the data with few or no missing values, then we should make a note on those data as special. We'll revisit these data later on. **Either way, you should continue your analysis for now using just the subset of the data with few or no missing values.**"
   ]
  },
  {
   "cell_type": "code",
   "execution_count": 21,
   "metadata": {},
   "outputs": [],
   "source": [
    "# How much data is missing in each row of the dataset?\n",
    "\n",
    "azdias['row_missing_values'] = azdias.isnull().sum (axis = 1)"
   ]
  },
  {
   "cell_type": "code",
   "execution_count": 22,
   "metadata": {},
   "outputs": [
    {
     "data": {
      "text/plain": [
       "<matplotlib.axes._subplots.AxesSubplot at 0x21bc78f8a88>"
      ]
     },
     "execution_count": 22,
     "metadata": {},
     "output_type": "execute_result"
    },
    {
     "data": {
      "image/png": "[encoded data removed]",
      "text/plain": [
       "<Figure size 432x288 with 1 Axes>"
      ]
     },
     "metadata": {
      "needs_background": "light"
     },
     "output_type": "display_data"
    }
   ],
   "source": [
    "\n",
    "azdias['row_missing_values'].hist ()"
   ]
  },
  {
   "cell_type": "code",
   "execution_count": 23,
   "metadata": {},
   "outputs": [],
   "source": [
    "# Write code to divide the data into two subsets based on the number of missing\n",
    "# values in each row.\n",
    "missing_values_threshold = 28\n",
    "azdias_low_missing_values = azdias[azdias['row_missing_values'] <= missing_values_threshold]\n",
    "azdias_high_missing_values = azdias[azdias['row_missing_values'] > missing_values_threshold]"
   ]
  },
  {
   "cell_type": "code",
   "execution_count": 24,
   "metadata": {},
   "outputs": [
    {
     "data": {
      "text/html": [
       "<div>\n",
       "<style scoped>\n",
       "    .dataframe tbody tr th:only-of-type {\n",
       "        vertical-align: middle;\n",
       "    }\n",
       "\n",
       "    .dataframe tbody tr th {\n",
       "        vertical-align: top;\n",
       "    }\n",
       "\n",
       "    .dataframe thead th {\n",
       "        text-align: right;\n",
       "    }\n",
       "</style>\n",
       "<table border=\"1\" class=\"dataframe\">\n",
       "  <thead>\n",
       "    <tr style=\"text-align: right;\">\n",
       "      <th></th>\n",
       "      <th>sum_of_nulls</th>\n",
       "      <th>percentage</th>\n",
       "    </tr>\n",
       "  </thead>\n",
       "  <tbody>\n",
       "    <tr>\n",
       "      <td>AGER_TYP</td>\n",
       "      <td>685843</td>\n",
       "      <td>76.955435</td>\n",
       "    </tr>\n",
       "    <tr>\n",
       "      <td>ALTERSKATEGORIE_GROB</td>\n",
       "      <td>2881</td>\n",
       "      <td>0.323264</td>\n",
       "    </tr>\n",
       "    <tr>\n",
       "      <td>ANREDE_KZ</td>\n",
       "      <td>0</td>\n",
       "      <td>0.000000</td>\n",
       "    </tr>\n",
       "    <tr>\n",
       "      <td>CJT_GESAMTTYP</td>\n",
       "      <td>4854</td>\n",
       "      <td>0.544646</td>\n",
       "    </tr>\n",
       "    <tr>\n",
       "      <td>FINANZ_MINIMALIST</td>\n",
       "      <td>0</td>\n",
       "      <td>0.000000</td>\n",
       "    </tr>\n",
       "    <tr>\n",
       "      <td>...</td>\n",
       "      <td>...</td>\n",
       "      <td>...</td>\n",
       "    </tr>\n",
       "    <tr>\n",
       "      <td>PLZ8_HHZ</td>\n",
       "      <td>116515</td>\n",
       "      <td>13.073637</td>\n",
       "    </tr>\n",
       "    <tr>\n",
       "      <td>PLZ8_GBZ</td>\n",
       "      <td>116515</td>\n",
       "      <td>13.073637</td>\n",
       "    </tr>\n",
       "    <tr>\n",
       "      <td>ARBEIT</td>\n",
       "      <td>97375</td>\n",
       "      <td>10.926022</td>\n",
       "    </tr>\n",
       "    <tr>\n",
       "      <td>ORTSGR_KLS9</td>\n",
       "      <td>97274</td>\n",
       "      <td>10.914689</td>\n",
       "    </tr>\n",
       "    <tr>\n",
       "      <td>RELAT_AB</td>\n",
       "      <td>97375</td>\n",
       "      <td>10.926022</td>\n",
       "    </tr>\n",
       "  </tbody>\n",
       "</table>\n",
       "<p>85 rows × 2 columns</p>\n",
       "</div>"
      ],
      "text/plain": [
       "                      sum_of_nulls  percentage\n",
       "AGER_TYP                    685843   76.955435\n",
       "ALTERSKATEGORIE_GROB          2881    0.323264\n",
       "ANREDE_KZ                        0    0.000000\n",
       "CJT_GESAMTTYP                 4854    0.544646\n",
       "FINANZ_MINIMALIST                0    0.000000\n",
       "...                            ...         ...\n",
       "PLZ8_HHZ                    116515   13.073637\n",
       "PLZ8_GBZ                    116515   13.073637\n",
       "ARBEIT                       97375   10.926022\n",
       "ORTSGR_KLS9                  97274   10.914689\n",
       "RELAT_AB                     97375   10.926022\n",
       "\n",
       "[85 rows x 2 columns]"
      ]
     },
     "execution_count": 24,
     "metadata": {},
     "output_type": "execute_result"
    }
   ],
   "source": [
    "azdias_nulls_perc"
   ]
  },
  {
   "cell_type": "code",
   "execution_count": 25,
   "metadata": {},
   "outputs": [
    {
     "name": "stdout",
     "output_type": "stream",
     "text": [
      "columns with no missing values:\n",
      "Index(['ANREDE_KZ', 'FINANZ_MINIMALIST', 'FINANZ_SPARER', 'FINANZ_VORSORGER',\n",
      "       'FINANZ_ANLEGER', 'FINANZ_UNAUFFAELLIGER', 'FINANZ_HAUSBAUER',\n",
      "       'FINANZTYP', 'GREEN_AVANTGARDE', 'SEMIO_SOZ', 'SEMIO_FAM', 'SEMIO_REL',\n",
      "       'SEMIO_MAT', 'SEMIO_VERT', 'SEMIO_LUST', 'SEMIO_ERL', 'SEMIO_KULT',\n",
      "       'SEMIO_RAT', 'SEMIO_KRIT', 'SEMIO_DOM', 'SEMIO_KAEM', 'SEMIO_PFLICHT',\n",
      "       'SEMIO_TRADV', 'ZABEOTYP'],\n",
      "      dtype='object')\n"
     ]
    }
   ],
   "source": [
    "print(\"columns with no missing values:\")\n",
    "no_missing_vlaues_columns = azdias_nulls_perc[azdias_nulls_perc[\"sum_of_nulls\"] == 0].index\n",
    "print(no_missing_vlaues_columns)"
   ]
  },
  {
   "cell_type": "code",
   "execution_count": 26,
   "metadata": {},
   "outputs": [],
   "source": [
    "# Compare the distribution of values for at least five columns where there are\n",
    "# no or few missing values, between the two subsets.\n",
    "\n",
    "\n",
    "def create_plot(column):\n",
    "    fig, (ax1, ax2) = plt.subplots(1, 2)\n",
    "    fig.set_figwidth(15)\n",
    "    ax1.set_title('missing values less than {}'.format(missing_values_threshold))\n",
    "    sns.countplot(azdias.loc[azdias_low_missing_values.index,column],ax=ax1)\n",
    "\n",
    "    ax2.set_title('missing values above  {}'.format(missing_values_threshold))\n",
    "    sns.countplot(azdias.loc[azdias_high_missing_values.index,column],ax=ax2)\n",
    "    \n",
    "    plt.show()"
   ]
  },
  {
   "cell_type": "code",
   "execution_count": 27,
   "metadata": {},
   "outputs": [
    {
     "name": "stdout",
     "output_type": "stream",
     "text": [
      "sample columns with no missing values: Index(['SEMIO_MAT', 'SEMIO_VERT', 'SEMIO_LUST', 'SEMIO_ERL', 'SEMIO_KULT'], dtype='object')\n"
     ]
    },
    {
     "data": {
      "image/png": "[encoded data removed]",
      "text/plain": [
       "<Figure size 1080x288 with 2 Axes>"
      ]
     },
     "metadata": {
      "needs_background": "light"
     },
     "output_type": "display_data"
    },
    {
     "data": {
      "image/png": "[encoded data removed]",
      "text/plain": [
       "<Figure size 1080x288 with 2 Axes>"
      ]
     },
     "metadata": {
      "needs_background": "light"
     },
     "output_type": "display_data"
    },
    {
     "data": {
      "image/png": "[encoded data removed]",
      "text/plain": [
       "<Figure size 1080x288 with 2 Axes>"
      ]
     },
     "metadata": {
      "needs_background": "light"
     },
     "output_type": "display_data"
    },
    {
     "data": {
      "image/png": "[encoded data removed]",
      "text/plain": [
       "<Figure size 1080x288 with 2 Axes>"
      ]
     },
     "metadata": {
      "needs_background": "light"
     },
     "output_type": "display_data"
    },
    {
     "data": {
      "image/png": "[encoded data removed]",
      "text/plain": [
       "<Figure size 1080x288 with 2 Axes>"
      ]
     },
     "metadata": {
      "needs_background": "light"
     },
     "output_type": "display_data"
    }
   ],
   "source": [
    "# selecting random 5 columns as sample\n",
    "no_missing_vlaues_columns_sample = no_missing_vlaues_columns[int(len(no_missing_vlaues_columns)/2):int(len(no_missing_vlaues_columns)/2+5)]\n",
    "# no_missing_vlaues_columns[0:5]\n",
    "print(\"sample columns with no missing values:\", no_missing_vlaues_columns_sample)\n",
    "for i in range(no_missing_vlaues_columns_sample.size):\n",
    "    create_plot(no_missing_vlaues_columns_sample[i])"
   ]
  },
  {
   "cell_type": "markdown",
   "metadata": {},
   "source": [
    "#### Discussion 1.1.3: Assess Missing Data in Each Row\n",
    "\n",
    "(Double-click this cell and replace this text with your own text, reporting your observations regarding missing data in rows. Are the data with lots of missing values are qualitatively different from data with few or no missing values?)\n",
    "\n",
    "**Answer:**\n",
    "The data with lots of missing values is different from data with few or no missing values. \n",
    "We would probably would like to remove the subset that contains a lot of missing values. "
   ]
  },
  {
   "cell_type": "markdown",
   "metadata": {},
   "source": [
    "### Step 1.2: Select and Re-Encode Features\n",
    "\n",
    "Checking for missing data isn't the only way in which you can prepare a dataset for analysis. Since the unsupervised learning techniques to be used will only work on data that is encoded numerically, you need to make a few encoding changes or additional assumptions to be able to make progress. In addition, while almost all of the values in the dataset are encoded using numbers, not all of them represent numeric values. Check the third column of the feature summary (`feat_info`) for a summary of types of measurement.\n",
    "- For numeric and interval data, these features can be kept without changes.\n",
    "- Most of the variables in the dataset are ordinal in nature. While ordinal values may technically be non-linear in spacing, make the simplifying assumption that the ordinal variables can be treated as being interval in nature (that is, kept without any changes).\n",
    "- Special handling may be necessary for the remaining two variable types: categorical, and 'mixed'.\n",
    "\n",
    "In the first two parts of this sub-step, you will perform an investigation of the categorical and mixed-type features and make a decision on each of them, whether you will keep, drop, or re-encode each. Then, in the last part, you will create a new data frame with only the selected and engineered columns.\n",
    "\n",
    "Data wrangling is often the trickiest part of the data analysis process, and there's a lot of it to be done here. But stick with it: once you're done with this step, you'll be ready to get to the machine learning parts of the project!"
   ]
  },
  {
   "cell_type": "code",
   "execution_count": 28,
   "metadata": {},
   "outputs": [
    {
     "name": "stdout",
     "output_type": "stream",
     "text": [
      "ordinal        49\n",
      "categorical    21\n",
      "numeric         7\n",
      "mixed           7\n",
      "interval        1\n",
      "Name: type, dtype: int64\n"
     ]
    }
   ],
   "source": [
    "# How many features are there of each data type?\n",
    "\n",
    "print(feat_info['type'].value_counts())"
   ]
  },
  {
   "cell_type": "markdown",
   "metadata": {},
   "source": [
    "#### Step 1.2.1: Re-Encode Categorical Features\n",
    "\n",
    "For categorical data, you would ordinarily need to encode the levels as dummy variables. Depending on the number of categories, perform one of the following:\n",
    "- For binary (two-level) categoricals that take numeric values, you can keep them without needing to do anything.\n",
    "- There is one binary variable that takes on non-numeric values. For this one, you need to re-encode the values as numbers or create a dummy variable.\n",
    "- For multi-level categoricals (three or more values), you can choose to encode the values using multiple dummy variables (e.g. via [OneHotEncoder](http://scikit-learn.org/stable/modules/generated/sklearn.preprocessing.OneHotEncoder.html)), or (to keep things straightforward) just drop them from the analysis. As always, document your choices in the Discussion section."
   ]
  },
  {
   "cell_type": "code",
   "execution_count": 29,
   "metadata": {},
   "outputs": [
    {
     "data": {
      "text/plain": [
       "(891221, 80)"
      ]
     },
     "execution_count": 29,
     "metadata": {},
     "output_type": "execute_result"
    }
   ],
   "source": [
    "azdias.shape"
   ]
  },
  {
   "cell_type": "code",
   "execution_count": 30,
   "metadata": {},
   "outputs": [
    {
     "name": "stdout",
     "output_type": "stream",
     "text": [
      "['NATIONALITAET_KZ', 'LP_STATUS_FEIN', 'ZABEOTYP', 'SOHO_KZ', 'GEBAEUDETYP', 'LP_FAMILIE_GROB', 'FINANZTYP', 'ANREDE_KZ', 'SHOPPER_TYP', 'LP_FAMILIE_FEIN', 'CJT_GESAMTTYP', 'GREEN_AVANTGARDE', 'CAMEO_DEUG_2015', 'OST_WEST_KZ', 'LP_STATUS_GROB', 'VERS_TYP', 'CAMEO_DEU_2015', 'GFK_URLAUBERTYP']\n",
      "binary_categorical:  ['SOHO_KZ', 'ANREDE_KZ', 'GREEN_AVANTGARDE', 'OST_WEST_KZ', 'VERS_TYP']\n",
      "multi_level_categorical:  ['NATIONALITAET_KZ', 'LP_STATUS_FEIN', 'ZABEOTYP', 'GEBAEUDETYP', 'LP_FAMILIE_GROB', 'FINANZTYP', 'SHOPPER_TYP', 'LP_FAMILIE_FEIN', 'CJT_GESAMTTYP', 'CAMEO_DEUG_2015', 'LP_STATUS_GROB', 'CAMEO_DEU_2015', 'GFK_URLAUBERTYP']\n"
     ]
    }
   ],
   "source": [
    "# Assess categorical variables: which are binary, which are multi-level, and\n",
    "# which one needs to be re-encoded?\n",
    "categorical_variables=list(set(feat_info[feat_info.type==\"categorical\"]['attribute'].tolist())-set(outliers_columns))\n",
    "#print(\"categorical_variables\", categorical_variables)\n",
    "print(categorical_variables)\n",
    "\n",
    "binary_categorical=[]\n",
    "multi_level_categorical=[]\n",
    "\n",
    "\n",
    "\n",
    "for col in categorical_variables:\n",
    "    if azdias[col].nunique()==2:\n",
    "        binary_categorical.append(col)\n",
    "    else:\n",
    "        multi_level_categorical.append(col)\n",
    "\n",
    "print(\"binary_categorical: \", binary_categorical)\n",
    "print(\"multi_level_categorical: \", multi_level_categorical)"
   ]
  },
  {
   "cell_type": "code",
   "execution_count": 31,
   "metadata": {},
   "outputs": [
    {
     "name": "stdout",
     "output_type": "stream",
     "text": [
      "SOHO_KZ  :  [1. 0.]\n",
      "ANREDE_KZ  :  [2 1]\n",
      "GREEN_AVANTGARDE  :  [0 1]\n",
      "OST_WEST_KZ  :  ['W' 'O']\n",
      "VERS_TYP  :  [ 2.  1. nan]\n"
     ]
    }
   ],
   "source": [
    "\"\"\"\n",
    "For binary (two-level) categoricals that take numeric values, you can keep them without needing to do anything.\n",
    "\"\"\"\n",
    "for b_c in binary_categorical:\n",
    "    print (b_c, \" : \", azdias_low_missing_values[b_c].unique())"
   ]
  },
  {
   "cell_type": "code",
   "execution_count": 32,
   "metadata": {},
   "outputs": [
    {
     "name": "stdout",
     "output_type": "stream",
     "text": [
      "NATIONALITAET_KZ  :  [ 1.  3.  2. nan]\n",
      "LP_STATUS_FEIN  :  [ 2.  3.  9.  4.  1. 10.  5.  8.  6.  7. nan]\n",
      "ZABEOTYP  :  [5 3 4 1 6 2]\n",
      "GEBAEUDETYP  :  [8. 1. 3. 2. 6. 4. 5.]\n",
      "LP_FAMILIE_GROB  :  [ 3.  1. nan  5.  2.  4.]\n",
      "FINANZTYP  :  [1 6 5 2 4 3]\n",
      "SHOPPER_TYP  :  [ 3.  2.  1.  0. nan]\n",
      "LP_FAMILIE_FEIN  :  [ 5.  1. nan 10.  2.  7. 11.  8.  4.  6.  9.  3.]\n",
      "CJT_GESAMTTYP  :  [ 5.  3.  2.  4.  1.  6. nan]\n",
      "CAMEO_DEUG_2015  :  ['8' '4' '2' '6' '1' '9' '5' '7' nan '3']\n",
      "LP_STATUS_GROB  :  [ 1.  2.  4.  5.  3. nan]\n",
      "CAMEO_DEU_2015  :  ['8A' '4C' '2A' '6B' '8C' '4A' '2D' '1A' '1E' '9D' '5C' '8B' '7A' '5D'\n",
      " '9E' nan '9B' '1B' '3D' '4E' '4B' '3C' '5A' '7B' '9A' '6D' '6E' '2C' '7C'\n",
      " '9C' '7D' '5E' '1D' '8D' '6C' '6A' '5B' '4D' '3A' '2B' '7E' '3B' '6F'\n",
      " '5F' '1C']\n",
      "GFK_URLAUBERTYP  :  [10.  1.  5. 12.  9.  3.  8. 11.  4.  2.  7.  6. nan]\n"
     ]
    }
   ],
   "source": [
    "for m_c in multi_level_categorical:\n",
    "    print (m_c, \" : \", azdias_low_missing_values[m_c].unique())"
   ]
  },
  {
   "cell_type": "code",
   "execution_count": 33,
   "metadata": {},
   "outputs": [],
   "source": [
    "# Re-encode categorical variable(s) to be kept in the analysis.\n",
    "\"\"\"\n",
    "There is one binary variable that takes on non-numeric values. For this one, you need to re-encode the values as numbers or create a dummy variable.\n",
    "\n",
    "\"\"\"\n",
    "OST_WEST_KZ_values = {'W': 0, 'O': 1}\n",
    "azdias_low_missing_values = azdias_low_missing_values.replace({'OST_WEST_KZ':OST_WEST_KZ_values})\n",
    "azdias=azdias.replace({'OST_WEST_KZ':OST_WEST_KZ_values})"
   ]
  },
  {
   "cell_type": "code",
   "execution_count": null,
   "metadata": {},
   "outputs": [],
   "source": []
  },
  {
   "cell_type": "code",
   "execution_count": 34,
   "metadata": {},
   "outputs": [],
   "source": [
    "\"\"\"\n",
    "For multi-level categoricals (three or more values), you can choose to encode the values using multiple dummy variables (e.g. via OneHotEncoder), or (to keep things straightforward) just drop them from the analysis. \n",
    "As always, document your choices in the Discussion section.\n",
    "\"\"\"\n",
    "\n",
    "azdias_low_missing_values_encode = pd.get_dummies(azdias_low_missing_values, columns=multi_level_categorical)"
   ]
  },
  {
   "cell_type": "code",
   "execution_count": 35,
   "metadata": {},
   "outputs": [
    {
     "name": "stdout",
     "output_type": "stream",
     "text": [
      "number of features before encoding:  80\n",
      "number of features after encoding:  195\n"
     ]
    }
   ],
   "source": [
    "print(\"number of features before encoding: \", azdias_low_missing_values.shape[1])\n",
    "print(\"number of features after encoding: \", azdias_low_missing_values_encode.shape[1])"
   ]
  },
  {
   "cell_type": "markdown",
   "metadata": {},
   "source": [
    "#### Discussion 1.2.1: Re-Encode Categorical Features\n",
    "\n",
    "(Double-click this cell and replace this text with your own text, reporting your findings and decisions regarding categorical features. Which ones did you keep, which did you drop, and what engineering steps did you perform?)\n",
    "\n",
    "**Answer:**\n",
    "\n",
    "1. binary categories are kept the same, except OST_WEST_KZ that replaced with numerical values. \n",
    "2. Multi-level categoricals encoded with OneHotEncoder. \n",
    "\n",
    "number of features before encoding:  80\n",
    "number of features after encoding:  195"
   ]
  },
  {
   "cell_type": "markdown",
   "metadata": {},
   "source": [
    "#### Step 1.2.2: Engineer Mixed-Type Features\n",
    "\n",
    "There are a handful of features that are marked as \"mixed\" in the feature summary that require special treatment in order to be included in the analysis. There are two in particular that deserve attention; the handling of the rest are up to your own choices:\n",
    "- \"PRAEGENDE_JUGENDJAHRE\" combines information on three dimensions: generation by decade, movement (mainstream vs. avantgarde), and nation (east vs. west). While there aren't enough levels to disentangle east from west, you should create two new variables to capture the other two dimensions: an interval-type variable for decade, and a binary variable for movement.\n",
    "- \"CAMEO_INTL_2015\" combines information on two axes: wealth and life stage. Break up the two-digit codes by their 'tens'-place and 'ones'-place digits into two new ordinal variables (which, for the purposes of this project, is equivalent to just treating them as their raw numeric values).\n",
    "- If you decide to keep or engineer new features around the other mixed-type features, make sure you note your steps in the Discussion section.\n",
    "\n",
    "Be sure to check `Data_Dictionary.md` for the details needed to finish these tasks."
   ]
  },
  {
   "cell_type": "code",
   "execution_count": 36,
   "metadata": {},
   "outputs": [
    {
     "data": {
      "text/html": [
       "<div>\n",
       "<style scoped>\n",
       "    .dataframe tbody tr th:only-of-type {\n",
       "        vertical-align: middle;\n",
       "    }\n",
       "\n",
       "    .dataframe tbody tr th {\n",
       "        vertical-align: top;\n",
       "    }\n",
       "\n",
       "    .dataframe thead th {\n",
       "        text-align: right;\n",
       "    }\n",
       "</style>\n",
       "<table border=\"1\" class=\"dataframe\">\n",
       "  <thead>\n",
       "    <tr style=\"text-align: right;\">\n",
       "      <th></th>\n",
       "      <th>attribute</th>\n",
       "      <th>information_level</th>\n",
       "      <th>type</th>\n",
       "      <th>missing_or_unknown</th>\n",
       "    </tr>\n",
       "  </thead>\n",
       "  <tbody>\n",
       "    <tr>\n",
       "      <td>15</td>\n",
       "      <td>LP_LEBENSPHASE_FEIN</td>\n",
       "      <td>person</td>\n",
       "      <td>mixed</td>\n",
       "      <td>[0]</td>\n",
       "    </tr>\n",
       "    <tr>\n",
       "      <td>16</td>\n",
       "      <td>LP_LEBENSPHASE_GROB</td>\n",
       "      <td>person</td>\n",
       "      <td>mixed</td>\n",
       "      <td>[0]</td>\n",
       "    </tr>\n",
       "    <tr>\n",
       "      <td>22</td>\n",
       "      <td>PRAEGENDE_JUGENDJAHRE</td>\n",
       "      <td>person</td>\n",
       "      <td>mixed</td>\n",
       "      <td>[-1,0]</td>\n",
       "    </tr>\n",
       "    <tr>\n",
       "      <td>56</td>\n",
       "      <td>WOHNLAGE</td>\n",
       "      <td>building</td>\n",
       "      <td>mixed</td>\n",
       "      <td>[-1]</td>\n",
       "    </tr>\n",
       "    <tr>\n",
       "      <td>59</td>\n",
       "      <td>CAMEO_INTL_2015</td>\n",
       "      <td>microcell_rr4</td>\n",
       "      <td>mixed</td>\n",
       "      <td>[-1,XX]</td>\n",
       "    </tr>\n",
       "    <tr>\n",
       "      <td>64</td>\n",
       "      <td>KBA05_BAUMAX</td>\n",
       "      <td>microcell_rr3</td>\n",
       "      <td>mixed</td>\n",
       "      <td>[-1,0]</td>\n",
       "    </tr>\n",
       "    <tr>\n",
       "      <td>79</td>\n",
       "      <td>PLZ8_BAUMAX</td>\n",
       "      <td>macrocell_plz8</td>\n",
       "      <td>mixed</td>\n",
       "      <td>[-1,0]</td>\n",
       "    </tr>\n",
       "  </tbody>\n",
       "</table>\n",
       "</div>"
      ],
      "text/plain": [
       "                attribute information_level   type missing_or_unknown\n",
       "15    LP_LEBENSPHASE_FEIN            person  mixed                [0]\n",
       "16    LP_LEBENSPHASE_GROB            person  mixed                [0]\n",
       "22  PRAEGENDE_JUGENDJAHRE            person  mixed             [-1,0]\n",
       "56               WOHNLAGE          building  mixed               [-1]\n",
       "59        CAMEO_INTL_2015     microcell_rr4  mixed            [-1,XX]\n",
       "64           KBA05_BAUMAX     microcell_rr3  mixed             [-1,0]\n",
       "79            PLZ8_BAUMAX    macrocell_plz8  mixed             [-1,0]"
      ]
     },
     "execution_count": 36,
     "metadata": {},
     "output_type": "execute_result"
    }
   ],
   "source": [
    "mixed_varibale = feat_info[feat_info.type=='mixed']\n",
    "mixed_varibale"
   ]
  },
  {
   "cell_type": "markdown",
   "metadata": {},
   "source": [
    "1.18. PRAEGENDE_JUGENDJAHRE (Taken from Data_Dictionary.md)\n",
    "\n",
    "Dominating movement of person's youth (avantgarde vs. mainstream; east vs. west)\n",
    "- -1: unknown\n",
    "-  0: unknown\n",
    "-  1: 40s - war years (Mainstream, E+W)\n",
    "-  2: 40s - reconstruction years (Avantgarde, E+W)\n",
    "-  3: 50s - economic miracle (Mainstream, E+W)\n",
    "-  4: 50s - milk bar / Individualisation (Avantgarde, E+W)\n",
    "-  5: 60s - economic miracle (Mainstream, E+W)\n",
    "-  6: 60s - generation 68 / student protestors (Avantgarde, W)\n",
    "-  7: 60s - opponents to the building of the Wall (Avantgarde, E)\n",
    "-  8: 70s - family orientation (Mainstream, E+W)\n",
    "-  9: 70s - peace movement (Avantgarde, E+W)\n",
    "- 10: 80s - Generation Golf (Mainstream, W)\n",
    "- 11: 80s - ecological awareness (Avantgarde, W)\n",
    "- 12: 80s - FDJ / communist party youth organisation (Mainstream, E)\n",
    "- 13: 80s - Swords into ploughshares (Avantgarde, E)\n",
    "- 14: 90s - digital media kids (Mainstream, E+W)\n",
    "- 15: 90s - ecological awareness (Avantgarde, E+W)"
   ]
  },
  {
   "cell_type": "code",
   "execution_count": 37,
   "metadata": {},
   "outputs": [
    {
     "name": "stdout",
     "output_type": "stream",
     "text": [
      "14.0    188697\n",
      "8.0     145988\n",
      "5.0      86416\n",
      "10.0     85808\n",
      "3.0      55195\n",
      "15.0     42547\n",
      "11.0     35752\n",
      "9.0      33570\n",
      "6.0      25652\n",
      "12.0     24446\n",
      "1.0      21282\n",
      "4.0      20451\n",
      "2.0       7479\n",
      "13.0      5764\n",
      "7.0       4010\n",
      "Name: PRAEGENDE_JUGENDJAHRE, dtype: int64\n"
     ]
    }
   ],
   "source": [
    "#Investigate \"PRAEGENDE_JUGENDJAHRE\" and engineer two new variables.\n",
    "print(azdias['PRAEGENDE_JUGENDJAHRE'].value_counts())\n"
   ]
  },
  {
   "cell_type": "code",
   "execution_count": 38,
   "metadata": {},
   "outputs": [],
   "source": [
    "#  create two new variables to capture the other two dimensions: an interval-type variable for decade, and a binary variable for movement.\n",
    "\n",
    "def praegende_jugendjahre_map_2_decade(x):\n",
    "    if x in (1,2): # 40 \n",
    "        return 1\n",
    "    if x in (3,4): # 50's\n",
    "        return 2\n",
    "    if x in (5,6,7): # 60's\n",
    "        return 3\n",
    "    if x in (8,9): # 70's\n",
    "        return 4\n",
    "    if x in (10,11,12,13): # 80's\n",
    "        return 5\n",
    "    if x in (14,15): # 90's\n",
    "        return 6\n",
    "    \n",
    "def praegende_jugendjahre_map_2_movement(x):\n",
    "    if x in (2,4,6,7,9,11,13,15): # Avantgarde\n",
    "        return 0\n",
    "    if x in (1,3,5,8,10,12,14): # Mainstream (not in (2,4,6,7,9,11,13,15))\n",
    "        return 1\n",
    "\n",
    "    \n",
    "\n"
   ]
  },
  {
   "cell_type": "code",
   "execution_count": 39,
   "metadata": {},
   "outputs": [],
   "source": [
    "azdias_low_missing_values_encode['PRAEGENDE_JUGENDJAHRE_DECADE'] = azdias_low_missing_values_encode['PRAEGENDE_JUGENDJAHRE'].apply(praegende_jugendjahre_map_2_decade)\n",
    "azdias_low_missing_values_encode['PRAEGENDE_JUGENDJAHRE_MOVEMENT'] = azdias_low_missing_values_encode['PRAEGENDE_JUGENDJAHRE'].apply(praegende_jugendjahre_map_2_movement)\n",
    "azdias_low_missing_values_encode.drop('PRAEGENDE_JUGENDJAHRE', axis=1, inplace=True)"
   ]
  },
  {
   "cell_type": "code",
   "execution_count": 40,
   "metadata": {},
   "outputs": [
    {
     "data": {
      "text/plain": [
       "6.0    225527\n",
       "4.0    175196\n",
       "5.0    151768\n",
       "3.0    114353\n",
       "2.0     74295\n",
       "1.0     28157\n",
       "Name: PRAEGENDE_JUGENDJAHRE_DECADE, dtype: int64"
      ]
     },
     "execution_count": 40,
     "metadata": {},
     "output_type": "execute_result"
    }
   ],
   "source": [
    "azdias_low_missing_values_encode['PRAEGENDE_JUGENDJAHRE_DECADE'].value_counts()"
   ]
  },
  {
   "cell_type": "code",
   "execution_count": 41,
   "metadata": {},
   "outputs": [
    {
     "data": {
      "text/plain": [
       "1.0    594073\n",
       "0.0    175223\n",
       "Name: PRAEGENDE_JUGENDJAHRE_MOVEMENT, dtype: int64"
      ]
     },
     "execution_count": 41,
     "metadata": {},
     "output_type": "execute_result"
    }
   ],
   "source": [
    "azdias_low_missing_values_encode['PRAEGENDE_JUGENDJAHRE_MOVEMENT'].value_counts()"
   ]
  },
  {
   "cell_type": "markdown",
   "metadata": {},
   "source": [
    " 4.3. CAMEO_INTL_2015\n",
    "\n",
    "German CAMEO: Wealth / Life Stage Typology, mapped to international code\n",
    "- -1: unknown\n",
    "- 11: Wealthy Households - Pre-Family Couples & Singles\n",
    "- 12: Wealthy Households - Young Couples With Children\n",
    "- 13: Wealthy Households - Families With School Age Children\n",
    "- 14: Wealthy Households - Older Families &  Mature Couples\n",
    "- 15: Wealthy Households - Elders In Retirement\n",
    "- 21: Prosperous Households - Pre-Family Couples & Singles\n",
    "- 22: Prosperous Households - Young Couples With Children\n",
    "- 23: Prosperous Households - Families With School Age Children\n",
    "- 24: Prosperous Households - Older Families & Mature Couples\n",
    "- 25: Prosperous Households - Elders In Retirement\n",
    "- 31: Comfortable Households - Pre-Family Couples & Singles\n",
    "- 32: Comfortable Households - Young Couples With Children\n",
    "- 33: Comfortable Households - Families With School Age Children\n",
    "- 34: Comfortable Households - Older Families & Mature Couples\n",
    "- 35: Comfortable Households - Elders In Retirement\n",
    "- 41: Less Affluent Households - Pre-Family Couples & Singles\n",
    "- 42: Less Affluent Households - Young Couples With Children\n",
    "- 43: Less Affluent Households - Families With School Age Children\n",
    "- 44: Less Affluent Households - Older Families & Mature Couples\n",
    "- 45: Less Affluent Households - Elders In Retirement\n",
    "- 51: Poorer Households - Pre-Family Couples & Singles\n",
    "- 52: Poorer Households - Young Couples With Children\n",
    "- 53: Poorer Households - Families With School Age Children\n",
    "- 54: Poorer Households - Older Families & Mature Couples\n",
    "- 55: Poorer Households - Elders In Retirement\n",
    "- XX: unknown\n"
   ]
  },
  {
   "cell_type": "code",
   "execution_count": 42,
   "metadata": {},
   "outputs": [
    {
     "name": "stdout",
     "output_type": "stream",
     "text": [
      "51    133694\n",
      "41     92336\n",
      "24     91158\n",
      "14     62884\n",
      "43     56672\n",
      "54     45391\n",
      "25     39628\n",
      "22     33155\n",
      "23     26750\n",
      "13     26336\n",
      "45     26132\n",
      "55     23955\n",
      "52     20542\n",
      "31     19024\n",
      "34     18524\n",
      "15     16974\n",
      "44     14820\n",
      "12     13249\n",
      "35     10356\n",
      "32     10354\n",
      "33      9935\n",
      "Name: CAMEO_INTL_2015, dtype: int64\n"
     ]
    },
    {
     "data": {
      "text/plain": [
       "\"\\n combines information on two axes: wealth and life stage.\\n Break up the two-digit codes by their 'tens'-place and 'ones'-place digits into two new ordinal variables \\n (which, for the purposes of this project, is equivalent to just treating them as their raw numeric values).\\n\""
      ]
     },
     "execution_count": 42,
     "metadata": {},
     "output_type": "execute_result"
    }
   ],
   "source": [
    "# Investigate \"CAMEO_INTL_2015\" and engineer two new variables.\n",
    "print(azdias['CAMEO_INTL_2015'].value_counts())\n",
    "\n",
    "\"\"\"\n",
    " combines information on two axes: wealth and life stage.\n",
    " Break up the two-digit codes by their 'tens'-place and 'ones'-place digits into two new ordinal variables \n",
    " (which, for the purposes of this project, is equivalent to just treating them as their raw numeric values).\n",
    "\"\"\"\n"
   ]
  },
  {
   "cell_type": "code",
   "execution_count": 43,
   "metadata": {},
   "outputs": [],
   "source": [
    "# Investigate \"CAMEO_INTL_2015\" and engineer two new variables.\n",
    "def cameo_intl_2015_map_2_wealth(x):\n",
    "     if x is np.NAN:\n",
    "        return np.NAN\n",
    "     else:\n",
    "        return int(int(x)/10)\n",
    "\n",
    "\n",
    "def cameo_intl_2015_map_2_life_stage(x):\n",
    "    if x is np.NAN:\n",
    "        return np.NAN\n",
    "    else:\n",
    "        return int(x) % 10"
   ]
  },
  {
   "cell_type": "code",
   "execution_count": 44,
   "metadata": {},
   "outputs": [
    {
     "name": "stdout",
     "output_type": "stream",
     "text": [
      "cameo_intl_2015_map_2_wealth: 5\n",
      "cameo_intl_2015_map_2_life_stage: 3\n"
     ]
    }
   ],
   "source": [
    "#test\n",
    "n = 53\n",
    "print(\"cameo_intl_2015_map_2_wealth:\", cameo_intl_2015_map_2_wealth(n))\n",
    "print(\"cameo_intl_2015_map_2_life_stage:\", cameo_intl_2015_map_2_life_stage(n))"
   ]
  },
  {
   "cell_type": "code",
   "execution_count": 45,
   "metadata": {},
   "outputs": [
    {
     "data": {
      "text/plain": [
       "6187"
      ]
     },
     "execution_count": 45,
     "metadata": {},
     "output_type": "execute_result"
    }
   ],
   "source": [
    "azdias_low_missing_values_encode['CAMEO_INTL_2015'].isnull().sum().sum()"
   ]
  },
  {
   "cell_type": "code",
   "execution_count": 46,
   "metadata": {},
   "outputs": [],
   "source": [
    "\n",
    "azdias_low_missing_values_encode['CAMEO_INTL_2015_WEALTH'] = azdias_low_missing_values_encode['CAMEO_INTL_2015'].apply(cameo_intl_2015_map_2_wealth)\n",
    "azdias_low_missing_values_encode['CAMEO_INTL_2015_LIFE_STAGE'] = azdias_low_missing_values_encode['CAMEO_INTL_2015'].apply(cameo_intl_2015_map_2_life_stage)\n",
    "azdias_low_missing_values_encode.drop('CAMEO_INTL_2015', axis=1, inplace=True)"
   ]
  },
  {
   "cell_type": "code",
   "execution_count": 47,
   "metadata": {},
   "outputs": [
    {
     "data": {
      "text/plain": [
       "5.0    223582\n",
       "2.0    190686\n",
       "4.0    189960\n",
       "1.0    119442\n",
       "3.0     68192\n",
       "Name: CAMEO_INTL_2015_WEALTH, dtype: int64"
      ]
     },
     "execution_count": 47,
     "metadata": {},
     "output_type": "execute_result"
    }
   ],
   "source": [
    "azdias_low_missing_values_encode['CAMEO_INTL_2015_WEALTH'].value_counts()"
   ]
  },
  {
   "cell_type": "code",
   "execution_count": 48,
   "metadata": {},
   "outputs": [
    {
     "data": {
      "text/plain": [
       "1.0    245053\n",
       "4.0    232776\n",
       "3.0    119692\n",
       "5.0    117042\n",
       "2.0     77299\n",
       "Name: CAMEO_INTL_2015_LIFE_STAGE, dtype: int64"
      ]
     },
     "execution_count": 48,
     "metadata": {},
     "output_type": "execute_result"
    }
   ],
   "source": [
    "azdias_low_missing_values_encode['CAMEO_INTL_2015_LIFE_STAGE'].value_counts()"
   ]
  },
  {
   "cell_type": "markdown",
   "metadata": {},
   "source": [
    "#### Discussion 1.2.2: Engineer Mixed-Type Features\n",
    "\n",
    "(Double-click this cell and replace this text with your own text, reporting your findings and decisions regarding mixed-value features. Which ones did you keep, which did you drop, and what engineering steps did you perform?)\n",
    "\n",
    "**Answer:**\n",
    "Using Data_Dictionary.md PRAEGENDE_JUGENDJAHRE and CAMEO_INTL_2015 spit to new features. \n",
    "\n",
    "PRAEGENDE_JUGENDJAHRE was split to 2 new features:\n",
    "1. PRAEGENDE_JUGENDJAHRE_DECADE\n",
    "2. PRAEGENDE_JUGENDJAHRE_MOVEMENT\n",
    "CAMEO_INTL_2015 was split to 2 new features:\n",
    "1. CAMEO_INTL_2015_WEALTH\n",
    "2. CAMEO_INTL_2015_LIFE_STAGE\n"
   ]
  },
  {
   "cell_type": "markdown",
   "metadata": {},
   "source": [
    "#### Step 1.2.3: Complete Feature Selection\n",
    "\n",
    "In order to finish this step up, you need to make sure that your data frame now only has the columns that you want to keep. To summarize, the dataframe should consist of the following:\n",
    "- All numeric, interval, and ordinal type columns from the original dataset.\n",
    "- Binary categorical features (all numerically-encoded).\n",
    "- Engineered features from other multi-level categorical features and mixed features.\n",
    "\n",
    "Make sure that for any new columns that you have engineered, that you've excluded the original columns from the final dataset. Otherwise, their values will interfere with the analysis later on the project. For example, you should not keep \"PRAEGENDE_JUGENDJAHRE\", since its values won't be useful for the algorithm: only the values derived from it in the engineered features you created should be retained. As a reminder, your data should only be from **the subset with few or no missing values**."
   ]
  },
  {
   "cell_type": "code",
   "execution_count": 49,
   "metadata": {},
   "outputs": [
    {
     "data": {
      "text/plain": [
       "(798049, 197)"
      ]
     },
     "execution_count": 49,
     "metadata": {},
     "output_type": "execute_result"
    }
   ],
   "source": [
    "# If there are other re-engineering tasks you need to perform, make sure you\n",
    "# take care of them here. (Dealing with missing data will come in step 2.1.)\n",
    "\n",
    "azdias_low_missing_values_encode.shape"
   ]
  },
  {
   "cell_type": "code",
   "execution_count": 50,
   "metadata": {},
   "outputs": [
    {
     "data": {
      "text/plain": [
       "array(['ALTERSKATEGORIE_GROB', 'ANREDE_KZ', 'FINANZ_MINIMALIST',\n",
       "       'FINANZ_SPARER', 'FINANZ_VORSORGER', 'FINANZ_ANLEGER',\n",
       "       'FINANZ_UNAUFFAELLIGER', 'FINANZ_HAUSBAUER', 'GREEN_AVANTGARDE',\n",
       "       'HEALTH_TYP', 'LP_LEBENSPHASE_FEIN', 'LP_LEBENSPHASE_GROB',\n",
       "       'RETOURTYP_BK_S', 'SEMIO_SOZ', 'SEMIO_FAM', 'SEMIO_REL',\n",
       "       'SEMIO_MAT', 'SEMIO_VERT', 'SEMIO_LUST', 'SEMIO_ERL', 'SEMIO_KULT',\n",
       "       'SEMIO_RAT', 'SEMIO_KRIT', 'SEMIO_DOM', 'SEMIO_KAEM',\n",
       "       'SEMIO_PFLICHT', 'SEMIO_TRADV', 'SOHO_KZ', 'VERS_TYP',\n",
       "       'ANZ_PERSONEN', 'ANZ_TITEL', 'HH_EINKOMMEN_SCORE',\n",
       "       'W_KEIT_KIND_HH', 'WOHNDAUER_2008', 'ANZ_HAUSHALTE_AKTIV',\n",
       "       'ANZ_HH_TITEL', 'KONSUMNAEHE', 'MIN_GEBAEUDEJAHR', 'OST_WEST_KZ',\n",
       "       'WOHNLAGE', 'KBA05_ANTG1', 'KBA05_ANTG2', 'KBA05_ANTG3',\n",
       "       'KBA05_ANTG4', 'KBA05_GBZ', 'BALLRAUM', 'EWDICHTE', 'INNENSTADT',\n",
       "       'GEBAEUDETYP_RASTER', 'KKK', 'MOBI_REGIO', 'ONLINE_AFFINITAET',\n",
       "       'REGIOTYP', 'KBA13_ANZAHL_PKW', 'PLZ8_ANTG1', 'PLZ8_ANTG2',\n",
       "       'PLZ8_ANTG3', 'PLZ8_ANTG4', 'PLZ8_BAUMAX', 'PLZ8_HHZ', 'PLZ8_GBZ',\n",
       "       'ARBEIT', 'ORTSGR_KLS9', 'RELAT_AB', 'row_missing_values',\n",
       "       'NATIONALITAET_KZ_1.0', 'NATIONALITAET_KZ_2.0',\n",
       "       'NATIONALITAET_KZ_3.0', 'LP_STATUS_FEIN_1.0', 'LP_STATUS_FEIN_2.0',\n",
       "       'LP_STATUS_FEIN_3.0', 'LP_STATUS_FEIN_4.0', 'LP_STATUS_FEIN_5.0',\n",
       "       'LP_STATUS_FEIN_6.0', 'LP_STATUS_FEIN_7.0', 'LP_STATUS_FEIN_8.0',\n",
       "       'LP_STATUS_FEIN_9.0', 'LP_STATUS_FEIN_10.0', 'ZABEOTYP_1',\n",
       "       'ZABEOTYP_2', 'ZABEOTYP_3', 'ZABEOTYP_4', 'ZABEOTYP_5',\n",
       "       'ZABEOTYP_6', 'GEBAEUDETYP_1.0', 'GEBAEUDETYP_2.0',\n",
       "       'GEBAEUDETYP_3.0', 'GEBAEUDETYP_4.0', 'GEBAEUDETYP_5.0',\n",
       "       'GEBAEUDETYP_6.0', 'GEBAEUDETYP_8.0', 'LP_FAMILIE_GROB_1.0',\n",
       "       'LP_FAMILIE_GROB_2.0', 'LP_FAMILIE_GROB_3.0',\n",
       "       'LP_FAMILIE_GROB_4.0', 'LP_FAMILIE_GROB_5.0', 'FINANZTYP_1',\n",
       "       'FINANZTYP_2', 'FINANZTYP_3', 'FINANZTYP_4', 'FINANZTYP_5',\n",
       "       'FINANZTYP_6', 'SHOPPER_TYP_0.0', 'SHOPPER_TYP_1.0',\n",
       "       'SHOPPER_TYP_2.0', 'SHOPPER_TYP_3.0', 'LP_FAMILIE_FEIN_1.0',\n",
       "       'LP_FAMILIE_FEIN_2.0', 'LP_FAMILIE_FEIN_3.0',\n",
       "       'LP_FAMILIE_FEIN_4.0', 'LP_FAMILIE_FEIN_5.0',\n",
       "       'LP_FAMILIE_FEIN_6.0', 'LP_FAMILIE_FEIN_7.0',\n",
       "       'LP_FAMILIE_FEIN_8.0', 'LP_FAMILIE_FEIN_9.0',\n",
       "       'LP_FAMILIE_FEIN_10.0', 'LP_FAMILIE_FEIN_11.0',\n",
       "       'CJT_GESAMTTYP_1.0', 'CJT_GESAMTTYP_2.0', 'CJT_GESAMTTYP_3.0',\n",
       "       'CJT_GESAMTTYP_4.0', 'CJT_GESAMTTYP_5.0', 'CJT_GESAMTTYP_6.0',\n",
       "       'CAMEO_DEUG_2015_1', 'CAMEO_DEUG_2015_2', 'CAMEO_DEUG_2015_3',\n",
       "       'CAMEO_DEUG_2015_4', 'CAMEO_DEUG_2015_5', 'CAMEO_DEUG_2015_6',\n",
       "       'CAMEO_DEUG_2015_7', 'CAMEO_DEUG_2015_8', 'CAMEO_DEUG_2015_9',\n",
       "       'LP_STATUS_GROB_1.0', 'LP_STATUS_GROB_2.0', 'LP_STATUS_GROB_3.0',\n",
       "       'LP_STATUS_GROB_4.0', 'LP_STATUS_GROB_5.0', 'CAMEO_DEU_2015_1A',\n",
       "       'CAMEO_DEU_2015_1B', 'CAMEO_DEU_2015_1C', 'CAMEO_DEU_2015_1D',\n",
       "       'CAMEO_DEU_2015_1E', 'CAMEO_DEU_2015_2A', 'CAMEO_DEU_2015_2B',\n",
       "       'CAMEO_DEU_2015_2C', 'CAMEO_DEU_2015_2D', 'CAMEO_DEU_2015_3A',\n",
       "       'CAMEO_DEU_2015_3B', 'CAMEO_DEU_2015_3C', 'CAMEO_DEU_2015_3D',\n",
       "       'CAMEO_DEU_2015_4A', 'CAMEO_DEU_2015_4B', 'CAMEO_DEU_2015_4C',\n",
       "       'CAMEO_DEU_2015_4D', 'CAMEO_DEU_2015_4E', 'CAMEO_DEU_2015_5A',\n",
       "       'CAMEO_DEU_2015_5B', 'CAMEO_DEU_2015_5C', 'CAMEO_DEU_2015_5D',\n",
       "       'CAMEO_DEU_2015_5E', 'CAMEO_DEU_2015_5F', 'CAMEO_DEU_2015_6A',\n",
       "       'CAMEO_DEU_2015_6B', 'CAMEO_DEU_2015_6C', 'CAMEO_DEU_2015_6D',\n",
       "       'CAMEO_DEU_2015_6E', 'CAMEO_DEU_2015_6F', 'CAMEO_DEU_2015_7A',\n",
       "       'CAMEO_DEU_2015_7B', 'CAMEO_DEU_2015_7C', 'CAMEO_DEU_2015_7D',\n",
       "       'CAMEO_DEU_2015_7E', 'CAMEO_DEU_2015_8A', 'CAMEO_DEU_2015_8B',\n",
       "       'CAMEO_DEU_2015_8C', 'CAMEO_DEU_2015_8D', 'CAMEO_DEU_2015_9A',\n",
       "       'CAMEO_DEU_2015_9B', 'CAMEO_DEU_2015_9C', 'CAMEO_DEU_2015_9D',\n",
       "       'CAMEO_DEU_2015_9E', 'GFK_URLAUBERTYP_1.0', 'GFK_URLAUBERTYP_2.0',\n",
       "       'GFK_URLAUBERTYP_3.0', 'GFK_URLAUBERTYP_4.0',\n",
       "       'GFK_URLAUBERTYP_5.0', 'GFK_URLAUBERTYP_6.0',\n",
       "       'GFK_URLAUBERTYP_7.0', 'GFK_URLAUBERTYP_8.0',\n",
       "       'GFK_URLAUBERTYP_9.0', 'GFK_URLAUBERTYP_10.0',\n",
       "       'GFK_URLAUBERTYP_11.0', 'GFK_URLAUBERTYP_12.0',\n",
       "       'PRAEGENDE_JUGENDJAHRE_DECADE', 'PRAEGENDE_JUGENDJAHRE_MOVEMENT',\n",
       "       'CAMEO_INTL_2015_WEALTH', 'CAMEO_INTL_2015_LIFE_STAGE'],\n",
       "      dtype=object)"
      ]
     },
     "execution_count": 50,
     "metadata": {},
     "output_type": "execute_result"
    }
   ],
   "source": [
    "# Do whatever you need to in order to ensure that the dataframe only contains\n",
    "# the columns that should be passed to the algorithm functions.\n",
    "\n",
    "azdias_low_missing_values_encode.columns.values"
   ]
  },
  {
   "cell_type": "markdown",
   "metadata": {},
   "source": [
    "### Step 1.3: Create a Cleaning Function\n",
    "\n",
    "Even though you've finished cleaning up the general population demographics data, it's important to look ahead to the future and realize that you'll need to perform the same cleaning steps on the customer demographics data. In this substep, complete the function below to execute the main feature selection, encoding, and re-engineering steps you performed above. Then, when it comes to looking at the customer data in Step 3, you can just run this function on that DataFrame to get the trimmed dataset in a single step."
   ]
  },
  {
   "cell_type": "code",
   "execution_count": 51,
   "metadata": {},
   "outputs": [],
   "source": [
    "\n",
    "# import libraries here; add more as necessary\n",
    "import numpy as np\n",
    "import pandas as pd\n",
    "import matplotlib.pyplot as plt\n",
    "import seaborn as sns\n",
    "import pandas as pd\n",
    "from sklearn.preprocessing import StandardScaler, Imputer\n",
    "from sklearn.decomposition import PCA\n",
    "from sklearn.cluster import KMeans\n",
    "# magic word for producing visualizations in notebook\n",
    "%matplotlib inline\n",
    "\n",
    "'''\n",
    "Import note: The classroom currently uses sklearn version 0.19.\n",
    "If you need to use an imputer, it is available in sklearn.preprocessing.Imputer,\n",
    "instead of sklearn.impute as in newer versions of sklearn.\n",
    "'''\n",
    "\n",
    "\n",
    "# Load in the general demographics data.\n",
    "azdias_src =  pd.read_csv('Udacity_AZDIAS_Subset.csv',sep=';')\n",
    "\n",
    "# Load in the feature summary file.\n",
    "feat_info = pd.read_csv('AZDIAS_Feature_Summary.csv',sep=';')"
   ]
  },
  {
   "cell_type": "code",
   "execution_count": 52,
   "metadata": {},
   "outputs": [],
   "source": [
    "\"\"\"\n",
    "** This cell is duplicated - in case we don't run all notbook again**\n",
    "\"\"\"\n",
    "def string_list_to_list(string_list):\n",
    "    \"\"\"\n",
    "    @param string_list: assuming list is reperesnted as string: '[1,2,3]', '[-1,XX]' and co..\n",
    "    \"\"\"\n",
    "    # remove starting and ending spaces with strip\n",
    "    remove_brackets = string_list.strip()[1:-1]\n",
    "    if len(remove_brackets) == 0:\n",
    "        return list()\n",
    "    else:\n",
    "        remove_brackets =  remove_brackets.split(',')\n",
    "        return [int(x) if (x.isdigit() or x=='-1') is True else x for x in remove_brackets]"
   ]
  },
  {
   "cell_type": "code",
   "execution_count": 53,
   "metadata": {},
   "outputs": [],
   "source": [
    "\"\"\"\n",
    "** This cell is duplicated - in case we don't run all notbook again**\n",
    "\"\"\"\n",
    "\n",
    "#  create two new variables to capture the other two dimensions: an interval-type variable for decade, and a binary variable for movement.\n",
    "\n",
    "def praegende_jugendjahre_map_2_decade(x):\n",
    "    if x in (1,2): # 40 \n",
    "        return 1\n",
    "    if x in (3,4): # 50's\n",
    "        return 2\n",
    "    if x in (5,6,7): # 60's\n",
    "        return 3\n",
    "    if x in (8,9): # 70's\n",
    "        return 4\n",
    "    if x in (10,11,12,13): # 80's\n",
    "        return 5\n",
    "    if x in (14,15): # 90's\n",
    "        return 6\n",
    "    \n",
    "def praegende_jugendjahre_map_2_movement(x):\n",
    "    if x in (2,4,6,7,9,11,13,15): # Avantgarde\n",
    "        return 0\n",
    "    if x in (1,3,5,8,10,12,14): # Mainstream (not in (2,4,6,7,9,11,13,15))\n",
    "        return 1\n",
    "\n",
    "\n",
    "# Investigate \"CAMEO_INTL_2015\" and engineer two new variables.\n",
    "def cameo_intl_2015_map_2_wealth(x):\n",
    "     if x is np.NAN:\n",
    "        return np.NAN\n",
    "     else:\n",
    "        return int(int(x)/10)\n",
    "\n",
    "\n",
    "def cameo_intl_2015_map_2_life_stage(x):\n",
    "    if x is np.NAN:\n",
    "        return np.NAN\n",
    "    else:\n",
    "        return int(x) % 10"
   ]
  },
  {
   "cell_type": "code",
   "execution_count": 114,
   "metadata": {},
   "outputs": [],
   "source": [
    "\n",
    "PERCENTAGE_MISSING_PER_COLUMN_THRESHOLD = 20\n",
    "ROW_MISSING_VALUES_THRESHOLD = 28\n",
    "\n",
    "def clean_data(df_src):\n",
    "    \"\"\"\n",
    "    Perform feature trimming, re-encoding, and engineering for demographics\n",
    "    data\n",
    "    \n",
    "    INPUT: Demographics DataFrame\n",
    "    OUTPUT: Trimmed and cleaned demographics DataFrame\n",
    "    \"\"\"\n",
    "    df = df_src.copy()\n",
    "    \n",
    "    # Put in code here to execute all main cleaning steps:\n",
    "    # convert missing value codes into NaNs, ...\n",
    "    \n",
    "    \n",
    "    for i in range(len(feat_info)):\n",
    "        feature_info_row = feat_info.iloc[i]\n",
    "        missing_or_unknown= feature_info_row['missing_or_unknown'] # '[-1,9]'\n",
    "        attribute = feature_info_row['attribute'] # row in \n",
    "        nan_list = string_list_to_list(missing_or_unknown) # ['-1', '9']    \n",
    "        if len(nan_list) > 0: # onley for cases \n",
    "            df[attribute].replace(to_replace=nan_list, value=np.nan, inplace=True)\n",
    "    \n",
    "    # remove selected columns and rows, ...\n",
    "    \n",
    "    df_col_sum_of_nulls=df.isnull().sum()\n",
    "\n",
    "    num_of_rows = df.shape[0] # 891221\n",
    "\n",
    "    percent_missing_per_column =(df_col_sum_of_nulls/num_of_rows)*100\n",
    "\n",
    "    df_nulls_perc = pd.DataFrame({\"sum_of_nulls_per_column\": df_col_sum_of_nulls, \"percentage_missing_per_column\": percent_missing_per_column})\n",
    "\n",
    "    df_outliers_columns = df_nulls_perc[df_nulls_perc['percentage_missing_per_column']>PERCENTAGE_MISSING_PER_COLUMN_THRESHOLD].index\n",
    "    df.drop(columns=df_outliers_columns,axis=\"columns\",inplace=True)\n",
    "    \n",
    "    df['row_missing_values'] = df.isnull().sum (axis = 1)\n",
    "    df_low_missing_values = df[df['row_missing_values'] <= ROW_MISSING_VALUES_THRESHOLD]\n",
    "    df_high_missing_values = df[df['row_missing_values'] > ROW_MISSING_VALUES_THRESHOLD]\n",
    "    \n",
    "    df.drop('row_missing_values', axis=1, inplace=True)\n",
    "    # select, re-encode, and engineer column values.\n",
    "    \n",
    "    binary_categorical=[]\n",
    "    multi_level_categorical=[]\n",
    "    categorical_variables=list(set(feat_info[feat_info.type==\"categorical\"]['attribute'].tolist())-set(df_outliers_columns))\n",
    "    for col in categorical_variables:\n",
    "        if df[col].nunique()==2:\n",
    "            binary_categorical.append(col)\n",
    "        else:\n",
    "            multi_level_categorical.append(col)\n",
    "        \n",
    "    OST_WEST_KZ_DICT = {'W': 0, 'O': 1}\n",
    "    df.replace({'OST_WEST_KZ':OST_WEST_KZ_DICT})\n",
    "    df.replace({'OST_WEST_KZ':OST_WEST_KZ_DICT}, inplace=True)\n",
    "    \n",
    "    df = pd.get_dummies(df, columns=multi_level_categorical)\n",
    "    \n",
    "    if 'PRAEGENDE_JUGENDJAHRE' in df.columns:\n",
    "        df['PRAEGENDE_JUGENDJAHRE_DECADE'] = df['PRAEGENDE_JUGENDJAHRE'].apply(praegende_jugendjahre_map_2_decade)\n",
    "        df['PRAEGENDE_JUGENDJAHRE_MOVEMENT'] = df['PRAEGENDE_JUGENDJAHRE'].apply(praegende_jugendjahre_map_2_movement)\n",
    "        df.drop('PRAEGENDE_JUGENDJAHRE', axis=1, inplace=True)\n",
    "    \n",
    "    if 'CAMEO_INTL_2015' in df.columns:\n",
    "        df['CAMEO_INTL_2015_WEALTH'] = df['CAMEO_INTL_2015'].apply(cameo_intl_2015_map_2_wealth)\n",
    "        df['CAMEO_INTL_2015_LIFE_STAGE'] = df['CAMEO_INTL_2015'].apply(cameo_intl_2015_map_2_life_stage)\n",
    "        df.drop('CAMEO_INTL_2015', axis=1, inplace=True)\n",
    "    \n",
    "    # Return the cleaned dataframe.\n",
    "    return df\n",
    "    "
   ]
  },
  {
   "cell_type": "code",
   "execution_count": 115,
   "metadata": {},
   "outputs": [],
   "source": [
    "df = clean_data(azdias_src)"
   ]
  },
  {
   "cell_type": "markdown",
   "metadata": {},
   "source": [
    "## Step 2: Feature Transformation\n",
    "\n",
    "### Step 2.1: Apply Feature Scaling\n",
    "\n",
    "Before we apply dimensionality reduction techniques to the data, we need to perform feature scaling so that the principal component vectors are not influenced by the natural differences in scale for features. Starting from this part of the project, you'll want to keep an eye on the [API reference page for sklearn](http://scikit-learn.org/stable/modules/classes.html) to help you navigate to all of the classes and functions that you'll need. In this substep, you'll need to check the following:\n",
    "\n",
    "- sklearn requires that data not have missing values in order for its estimators to work properly. So, before applying the scaler to your data, make sure that you've cleaned the DataFrame of the remaining missing values. This can be as simple as just removing all data points with missing data, or applying an [Imputer](http://scikit-learn.org/stable/modules/generated/sklearn.preprocessing.Imputer.html) to replace all missing values. You might also try a more complicated procedure where you temporarily remove missing values in order to compute the scaling parameters before re-introducing those missing values and applying imputation. Think about how much missing data you have and what possible effects each approach might have on your analysis, and justify your decision in the discussion section below.\n",
    "- For the actual scaling function, a [StandardScaler](http://scikit-learn.org/stable/modules/generated/sklearn.preprocessing.StandardScaler.html) instance is suggested, scaling each feature to mean 0 and standard deviation 1.\n",
    "- For these classes, you can make use of the `.fit_transform()` method to both fit a procedure to the data as well as apply the transformation to the data at the same time. Don't forget to keep the fit sklearn objects handy, since you'll be applying them to the customer demographics data towards the end of the project."
   ]
  },
  {
   "cell_type": "code",
   "execution_count": 56,
   "metadata": {},
   "outputs": [
    {
     "name": "stdout",
     "output_type": "stream",
     "text": [
      "num of nulls:  4556457\n"
     ]
    }
   ],
   "source": [
    "print(\"num of nulls: \", df.isnull().sum().sum())"
   ]
  },
  {
   "cell_type": "code",
   "execution_count": 57,
   "metadata": {},
   "outputs": [
    {
     "name": "stderr",
     "output_type": "stream",
     "text": [
      "C:\\Users\\Itzik.Jan\\AppData\\Local\\Continuum\\anaconda3\\lib\\site-packages\\sklearn\\utils\\deprecation.py:66: DeprecationWarning: Class Imputer is deprecated; Imputer was deprecated in version 0.20 and will be removed in 0.22. Import impute.SimpleImputer from sklearn instead.\n",
      "  warnings.warn(msg, category=DeprecationWarning)\n"
     ]
    }
   ],
   "source": [
    "# If you've not yet cleaned the dataset of all NaN values, then investigate and\n",
    "# do that now.\n",
    "\n",
    "df_imputed = pd.DataFrame(Imputer(strategy='most_frequent').fit_transform(df))\n",
    "\n",
    "\n",
    "df_imputed.columns = df.columns\n",
    "df_imputed.index = df.index"
   ]
  },
  {
   "cell_type": "code",
   "execution_count": 58,
   "metadata": {},
   "outputs": [
    {
     "name": "stdout",
     "output_type": "stream",
     "text": [
      "num of nulls:  0\n"
     ]
    }
   ],
   "source": [
    "print(\"num of nulls: \", df_imputed.isnull().sum().sum())"
   ]
  },
  {
   "cell_type": "code",
   "execution_count": 59,
   "metadata": {},
   "outputs": [],
   "source": [
    "# Apply feature scaling to the general population demographics data.\n",
    "scaler = StandardScaler() \n",
    "\n",
    "df_clean_scaled = pd.DataFrame(scaler.fit_transform(df_imputed), columns=list(df_imputed))"
   ]
  },
  {
   "cell_type": "code",
   "execution_count": 60,
   "metadata": {},
   "outputs": [
    {
     "data": {
      "text/html": [
       "<div>\n",
       "<style scoped>\n",
       "    .dataframe tbody tr th:only-of-type {\n",
       "        vertical-align: middle;\n",
       "    }\n",
       "\n",
       "    .dataframe tbody tr th {\n",
       "        vertical-align: top;\n",
       "    }\n",
       "\n",
       "    .dataframe thead th {\n",
       "        text-align: right;\n",
       "    }\n",
       "</style>\n",
       "<table border=\"1\" class=\"dataframe\">\n",
       "  <thead>\n",
       "    <tr style=\"text-align: right;\">\n",
       "      <th></th>\n",
       "      <th>ALTERSKATEGORIE_GROB</th>\n",
       "      <th>ANREDE_KZ</th>\n",
       "      <th>FINANZ_MINIMALIST</th>\n",
       "      <th>FINANZ_SPARER</th>\n",
       "      <th>FINANZ_VORSORGER</th>\n",
       "      <th>FINANZ_ANLEGER</th>\n",
       "      <th>FINANZ_UNAUFFAELLIGER</th>\n",
       "      <th>FINANZ_HAUSBAUER</th>\n",
       "      <th>GREEN_AVANTGARDE</th>\n",
       "      <th>HEALTH_TYP</th>\n",
       "      <th>...</th>\n",
       "      <th>GFK_URLAUBERTYP_7.0</th>\n",
       "      <th>GFK_URLAUBERTYP_8.0</th>\n",
       "      <th>GFK_URLAUBERTYP_9.0</th>\n",
       "      <th>GFK_URLAUBERTYP_10.0</th>\n",
       "      <th>GFK_URLAUBERTYP_11.0</th>\n",
       "      <th>GFK_URLAUBERTYP_12.0</th>\n",
       "      <th>PRAEGENDE_JUGENDJAHRE_DECADE</th>\n",
       "      <th>PRAEGENDE_JUGENDJAHRE_MOVEMENT</th>\n",
       "      <th>CAMEO_INTL_2015_WEALTH</th>\n",
       "      <th>CAMEO_INTL_2015_LIFE_STAGE</th>\n",
       "    </tr>\n",
       "  </thead>\n",
       "  <tbody>\n",
       "    <tr>\n",
       "      <td>0</td>\n",
       "      <td>-0.751680</td>\n",
       "      <td>-1.045218</td>\n",
       "      <td>-0.056416</td>\n",
       "      <td>0.804890</td>\n",
       "      <td>-0.303378</td>\n",
       "      <td>1.285741</td>\n",
       "      <td>1.429871</td>\n",
       "      <td>-0.055511</td>\n",
       "      <td>-0.494701</td>\n",
       "      <td>0.938197</td>\n",
       "      <td>...</td>\n",
       "      <td>-0.225033</td>\n",
       "      <td>-0.331084</td>\n",
       "      <td>-0.27014</td>\n",
       "      <td>2.677092</td>\n",
       "      <td>-0.313472</td>\n",
       "      <td>-0.429034</td>\n",
       "      <td>0.994991</td>\n",
       "      <td>0.494701</td>\n",
       "      <td>1.039938</td>\n",
       "      <td>-1.095866</td>\n",
       "    </tr>\n",
       "    <tr>\n",
       "      <td>1</td>\n",
       "      <td>-1.743339</td>\n",
       "      <td>0.956738</td>\n",
       "      <td>-1.570358</td>\n",
       "      <td>1.487601</td>\n",
       "      <td>-1.059731</td>\n",
       "      <td>1.285741</td>\n",
       "      <td>0.757254</td>\n",
       "      <td>1.422415</td>\n",
       "      <td>-0.494701</td>\n",
       "      <td>0.938197</td>\n",
       "      <td>...</td>\n",
       "      <td>-0.225033</td>\n",
       "      <td>-0.331084</td>\n",
       "      <td>-0.27014</td>\n",
       "      <td>2.677092</td>\n",
       "      <td>-0.313472</td>\n",
       "      <td>-0.429034</td>\n",
       "      <td>0.994991</td>\n",
       "      <td>0.494701</td>\n",
       "      <td>1.039938</td>\n",
       "      <td>-1.095866</td>\n",
       "    </tr>\n",
       "    <tr>\n",
       "      <td>2</td>\n",
       "      <td>0.239980</td>\n",
       "      <td>0.956738</td>\n",
       "      <td>-1.570358</td>\n",
       "      <td>0.804890</td>\n",
       "      <td>-1.816084</td>\n",
       "      <td>-0.675554</td>\n",
       "      <td>0.084637</td>\n",
       "      <td>1.422415</td>\n",
       "      <td>2.021423</td>\n",
       "      <td>0.938197</td>\n",
       "      <td>...</td>\n",
       "      <td>-0.225033</td>\n",
       "      <td>-0.331084</td>\n",
       "      <td>-0.27014</td>\n",
       "      <td>2.677092</td>\n",
       "      <td>-0.313472</td>\n",
       "      <td>-0.429034</td>\n",
       "      <td>0.994991</td>\n",
       "      <td>-2.021423</td>\n",
       "      <td>-0.980453</td>\n",
       "      <td>0.879581</td>\n",
       "    </tr>\n",
       "    <tr>\n",
       "      <td>3</td>\n",
       "      <td>1.231640</td>\n",
       "      <td>0.956738</td>\n",
       "      <td>0.700556</td>\n",
       "      <td>-0.560532</td>\n",
       "      <td>1.209329</td>\n",
       "      <td>-0.675554</td>\n",
       "      <td>-1.260597</td>\n",
       "      <td>-0.794475</td>\n",
       "      <td>-0.494701</td>\n",
       "      <td>-0.385397</td>\n",
       "      <td>...</td>\n",
       "      <td>-0.225033</td>\n",
       "      <td>-0.331084</td>\n",
       "      <td>-0.27014</td>\n",
       "      <td>-0.373540</td>\n",
       "      <td>-0.313472</td>\n",
       "      <td>-0.429034</td>\n",
       "      <td>-0.363493</td>\n",
       "      <td>0.494701</td>\n",
       "      <td>-1.653917</td>\n",
       "      <td>-0.437384</td>\n",
       "    </tr>\n",
       "    <tr>\n",
       "      <td>4</td>\n",
       "      <td>0.239980</td>\n",
       "      <td>-1.045218</td>\n",
       "      <td>0.700556</td>\n",
       "      <td>0.122179</td>\n",
       "      <td>0.452976</td>\n",
       "      <td>-1.329319</td>\n",
       "      <td>0.084637</td>\n",
       "      <td>-0.794475</td>\n",
       "      <td>-0.494701</td>\n",
       "      <td>0.938197</td>\n",
       "      <td>...</td>\n",
       "      <td>-0.225033</td>\n",
       "      <td>-0.331084</td>\n",
       "      <td>-0.27014</td>\n",
       "      <td>-0.373540</td>\n",
       "      <td>-0.313472</td>\n",
       "      <td>-0.429034</td>\n",
       "      <td>-0.363493</td>\n",
       "      <td>0.494701</td>\n",
       "      <td>0.366474</td>\n",
       "      <td>0.221098</td>\n",
       "    </tr>\n",
       "  </tbody>\n",
       "</table>\n",
       "<p>5 rows × 196 columns</p>\n",
       "</div>"
      ],
      "text/plain": [
       "   ALTERSKATEGORIE_GROB  ANREDE_KZ  FINANZ_MINIMALIST  FINANZ_SPARER  \\\n",
       "0             -0.751680  -1.045218          -0.056416       0.804890   \n",
       "1             -1.743339   0.956738          -1.570358       1.487601   \n",
       "2              0.239980   0.956738          -1.570358       0.804890   \n",
       "3              1.231640   0.956738           0.700556      -0.560532   \n",
       "4              0.239980  -1.045218           0.700556       0.122179   \n",
       "\n",
       "   FINANZ_VORSORGER  FINANZ_ANLEGER  FINANZ_UNAUFFAELLIGER  FINANZ_HAUSBAUER  \\\n",
       "0         -0.303378        1.285741               1.429871         -0.055511   \n",
       "1         -1.059731        1.285741               0.757254          1.422415   \n",
       "2         -1.816084       -0.675554               0.084637          1.422415   \n",
       "3          1.209329       -0.675554              -1.260597         -0.794475   \n",
       "4          0.452976       -1.329319               0.084637         -0.794475   \n",
       "\n",
       "   GREEN_AVANTGARDE  HEALTH_TYP  ...  GFK_URLAUBERTYP_7.0  \\\n",
       "0         -0.494701    0.938197  ...            -0.225033   \n",
       "1         -0.494701    0.938197  ...            -0.225033   \n",
       "2          2.021423    0.938197  ...            -0.225033   \n",
       "3         -0.494701   -0.385397  ...            -0.225033   \n",
       "4         -0.494701    0.938197  ...            -0.225033   \n",
       "\n",
       "   GFK_URLAUBERTYP_8.0  GFK_URLAUBERTYP_9.0  GFK_URLAUBERTYP_10.0  \\\n",
       "0            -0.331084             -0.27014              2.677092   \n",
       "1            -0.331084             -0.27014              2.677092   \n",
       "2            -0.331084             -0.27014              2.677092   \n",
       "3            -0.331084             -0.27014             -0.373540   \n",
       "4            -0.331084             -0.27014             -0.373540   \n",
       "\n",
       "   GFK_URLAUBERTYP_11.0  GFK_URLAUBERTYP_12.0  PRAEGENDE_JUGENDJAHRE_DECADE  \\\n",
       "0             -0.313472             -0.429034                      0.994991   \n",
       "1             -0.313472             -0.429034                      0.994991   \n",
       "2             -0.313472             -0.429034                      0.994991   \n",
       "3             -0.313472             -0.429034                     -0.363493   \n",
       "4             -0.313472             -0.429034                     -0.363493   \n",
       "\n",
       "   PRAEGENDE_JUGENDJAHRE_MOVEMENT  CAMEO_INTL_2015_WEALTH  \\\n",
       "0                        0.494701                1.039938   \n",
       "1                        0.494701                1.039938   \n",
       "2                       -2.021423               -0.980453   \n",
       "3                        0.494701               -1.653917   \n",
       "4                        0.494701                0.366474   \n",
       "\n",
       "   CAMEO_INTL_2015_LIFE_STAGE  \n",
       "0                   -1.095866  \n",
       "1                   -1.095866  \n",
       "2                    0.879581  \n",
       "3                   -0.437384  \n",
       "4                    0.221098  \n",
       "\n",
       "[5 rows x 196 columns]"
      ]
     },
     "execution_count": 60,
     "metadata": {},
     "output_type": "execute_result"
    }
   ],
   "source": [
    "df_clean_scaled.head()"
   ]
  },
  {
   "cell_type": "markdown",
   "metadata": {},
   "source": [
    "### Discussion 2.1: Apply Feature Scaling\n",
    "\n",
    "(Double-click this cell and replace this text with your own text, reporting your decisions regarding feature scaling.)\n",
    "\n",
    "** Answer **:\n",
    "1. Replacing missing values with most frequent (using sklearn.preprocessing.Imputer). \n",
    "2. Features are scaled (using sklearn.preprocessing.StandardScaler)\n"
   ]
  },
  {
   "cell_type": "markdown",
   "metadata": {},
   "source": [
    "### Step 2.2: Perform Dimensionality Reduction\n",
    "\n",
    "On your scaled data, you are now ready to apply dimensionality reduction techniques.\n",
    "\n",
    "- Use sklearn's [PCA](http://scikit-learn.org/stable/modules/generated/sklearn.decomposition.PCA.html) class to apply principal component analysis on the data, thus finding the vectors of maximal variance in the data. To start, you should not set any parameters (so all components are computed) or set a number of components that is at least half the number of features (so there's enough features to see the general trend in variability).\n",
    "- Check out the ratio of variance explained by each principal component as well as the cumulative variance explained. Try plotting the cumulative or sequential values using matplotlib's [`plot()`](https://matplotlib.org/api/_as_gen/matplotlib.pyplot.plot.html) function. Based on what you find, select a value for the number of transformed features you'll retain for the clustering part of the project.\n",
    "- Once you've made a choice for the number of components to keep, make sure you re-fit a PCA instance to perform the decided-on transformation."
   ]
  },
  {
   "cell_type": "code",
   "execution_count": 61,
   "metadata": {},
   "outputs": [],
   "source": [
    "# scree plot\n",
    "def create_scree_plot(pca):\n",
    "    num_components=len(pca.explained_variance_ratio_)\n",
    "    ind = np.arange(num_components)\n",
    "    vals = pca.explained_variance_ratio_\n",
    " \n",
    "    plt.figure(figsize=(10, 6))\n",
    "    ax = plt.subplot(111)\n",
    "    cumvals = np.cumsum(vals)\n",
    "    ax.bar(ind, vals)\n",
    "    ax.plot(ind, cumvals)\n",
    "    for i in range(num_components):\n",
    "        ax.annotate(r\"%s%%\" % ((str(vals[i]*100)[:4])), (ind[i]+0.2, vals[i]), va=\"bottom\", ha=\"center\", fontsize=12)\n",
    " \n",
    "    ax.xaxis.set_tick_params(width=0)\n",
    "    ax.yaxis.set_tick_params(width=2, length=12)\n",
    " \n",
    "    ax.set_xlabel(\"Principal Component\")\n",
    "    ax.set_ylabel(\"Variance Explained (%)\")\n",
    "    plt.title('Explained Variance Per Principal Component')"
   ]
  },
  {
   "cell_type": "code",
   "execution_count": 62,
   "metadata": {},
   "outputs": [],
   "source": [
    "# Apply PCA to the data.\n",
    "def do_pca(df_x, n_components=None):\n",
    "    \n",
    "    pca = PCA(n_components)\n",
    "    X_pca = pca.fit_transform(df_x)\n",
    "    return pca, X_pca\n"
   ]
  },
  {
   "cell_type": "code",
   "execution_count": 63,
   "metadata": {},
   "outputs": [
    {
     "data": {
      "text/plain": [
       "PCA(copy=True, iterated_power='auto', n_components=None, random_state=None,\n",
       "    svd_solver='auto', tol=0.0, whiten=False)"
      ]
     },
     "execution_count": 63,
     "metadata": {},
     "output_type": "execute_result"
    }
   ],
   "source": [
    "pca, X_pca = do_pca(df_clean_scaled, None)\n",
    "pca"
   ]
  },
  {
   "cell_type": "code",
   "execution_count": 64,
   "metadata": {},
   "outputs": [
    {
     "data": {
      "text/plain": [
       "(891221, 196)"
      ]
     },
     "execution_count": 64,
     "metadata": {},
     "output_type": "execute_result"
    }
   ],
   "source": [
    "df_clean_scaled.shape"
   ]
  },
  {
   "cell_type": "code",
   "execution_count": 65,
   "metadata": {},
   "outputs": [
    {
     "data": {
      "text/plain": [
       "196"
      ]
     },
     "execution_count": 65,
     "metadata": {},
     "output_type": "execute_result"
    }
   ],
   "source": [
    "pca.n_components_"
   ]
  },
  {
   "cell_type": "code",
   "execution_count": 66,
   "metadata": {},
   "outputs": [
    {
     "data": {
      "text/plain": [
       "array([[ 2.41639039e+00, -1.28560419e+00, -3.99767940e+00, ...,\n",
       "        -7.01402746e-15,  3.74746626e-14, -9.50444940e-16],\n",
       "       [ 4.42574412e+00, -3.78549060e+00, -6.66936013e-02, ...,\n",
       "        -4.92501284e-16, -1.02995453e-14, -1.48251614e-14],\n",
       "       [-3.63440419e-01, -3.51645977e-01, -1.50560206e+00, ...,\n",
       "        -1.32963819e-14,  2.25860232e-14, -1.52510485e-14],\n",
       "       ...,\n",
       "       [-9.03241896e-01, -3.70949855e+00, -1.07913027e+00, ...,\n",
       "        -1.92165259e-16, -7.44994999e-17, -7.31558375e-17],\n",
       "       [ 5.69684298e+00, -3.55759307e+00,  5.10073868e+00, ...,\n",
       "         1.36570027e-16, -5.63238920e-18,  4.92541748e-17],\n",
       "       [ 3.52222694e-01,  3.17159905e+00,  1.58182565e+00, ...,\n",
       "        -1.60994910e-16,  2.54121596e-17, -6.85537701e-17]])"
      ]
     },
     "execution_count": 66,
     "metadata": {},
     "output_type": "execute_result"
    }
   ],
   "source": [
    "X_pca"
   ]
  },
  {
   "cell_type": "code",
   "execution_count": 67,
   "metadata": {},
   "outputs": [
    {
     "data": {
      "image/png": "[encoded data removed]",
      "text/plain": [
       "<Figure size 720x432 with 1 Axes>"
      ]
     },
     "metadata": {
      "needs_background": "light"
     },
     "output_type": "display_data"
    }
   ],
   "source": [
    "# Investigate the variance accounted for by each principal component.\n",
    "create_scree_plot(pca)"
   ]
  },
  {
   "cell_type": "code",
   "execution_count": 68,
   "metadata": {},
   "outputs": [],
   "source": [
    "# Investigate the variance accounted for by each principal component.\n",
    "\n",
    "def create_scree_plot_2(pca):\n",
    "    num_components=len(pca.explained_variance_ratio_)\n",
    "    ind = np.arange(num_components)\n",
    "    vals = pca.explained_variance_ratio_\n",
    "    components_total = len(pca.explained_variance_ratio_)\n",
    "    components = np.arange(components_total)\n",
    "    fig, ax1 = plt.subplots(figsize=(15,5))\n",
    "    ax1.bar(components,pca.explained_variance_ratio_)\n",
    "    ax1.set_ylabel('Explained Variance', color=\"blue\")\n",
    "    ax1.set_xlabel('Principal component')\n",
    "\n",
    "    ax2 = ax1.twinx() \n",
    "    ax2.plot(np.cumsum(pca.explained_variance_ratio_), color=\"red\",marker='o')\n",
    "    ax2.set_ylabel('Cumulative Explained Variance', color=\"red\")\n",
    "    plt.title(\"Variance explained by each component\")\n",
    "\n",
    "    plt.grid(color='r', linestyle='-', linewidth=0.5)\n",
    "    plt.show()"
   ]
  },
  {
   "cell_type": "code",
   "execution_count": 69,
   "metadata": {},
   "outputs": [],
   "source": [
    "# Re-apply PCA to the data while selecting for number of components to retain.\n",
    "\n",
    "pca_70, X_pca_70 = do_pca(df_clean_scaled, 70)"
   ]
  },
  {
   "cell_type": "code",
   "execution_count": 70,
   "metadata": {},
   "outputs": [
    {
     "data": {
      "text/plain": [
       "sklearn.decomposition.pca.PCA"
      ]
     },
     "execution_count": 70,
     "metadata": {},
     "output_type": "execute_result"
    }
   ],
   "source": [
    "type(pca_70)"
   ]
  },
  {
   "cell_type": "code",
   "execution_count": 71,
   "metadata": {},
   "outputs": [
    {
     "data": {
      "image/png": "[encoded data removed]",
      "text/plain": [
       "<Figure size 1080x360 with 2 Axes>"
      ]
     },
     "metadata": {
      "needs_background": "light"
     },
     "output_type": "display_data"
    }
   ],
   "source": [
    "create_scree_plot_2(pca_70)"
   ]
  },
  {
   "cell_type": "code",
   "execution_count": 72,
   "metadata": {},
   "outputs": [
    {
     "data": {
      "image/png": "[encoded data removed]",
      "text/plain": [
       "<Figure size 1080x360 with 2 Axes>"
      ]
     },
     "metadata": {
      "needs_background": "light"
     },
     "output_type": "display_data"
    }
   ],
   "source": [
    "pca_60, X_pca_60 = do_pca(df_clean_scaled, 60)\n",
    "create_scree_plot_2(pca_60)"
   ]
  },
  {
   "cell_type": "markdown",
   "metadata": {},
   "source": [
    "### Discussion 2.2: Perform Dimensionality Reduction\n",
    "\n",
    "(Double-click this cell and replace this text with your own text, reporting your findings and decisions regarding dimensionality reduction. How many principal components / transformed features are you retaining for the next step of the analysis?)\n",
    "\n",
    "**Answer:**\n",
    "70 components give a total varianace >70%."
   ]
  },
  {
   "cell_type": "markdown",
   "metadata": {},
   "source": [
    "### Step 2.3: Interpret Principal Components\n",
    "\n",
    "Now that we have our transformed principal components, it's a nice idea to check out the weight of each variable on the first few components to see if they can be interpreted in some fashion.\n",
    "\n",
    "As a reminder, each principal component is a unit vector that points in the direction of highest variance (after accounting for the variance captured by earlier principal components). The further a weight is from zero, the more the principal component is in the direction of the corresponding feature. If two features have large weights of the same sign (both positive or both negative), then increases in one tend expect to be associated with increases in the other. To contrast, features with different signs can be expected to show a negative correlation: increases in one variable should result in a decrease in the other.\n",
    "\n",
    "- To investigate the features, you should map each weight to their corresponding feature name, then sort the features according to weight. The most interesting features for each principal component, then, will be those at the beginning and end of the sorted list. Use the data dictionary document to help you understand these most prominent features, their relationships, and what a positive or negative value on the principal component might indicate.\n",
    "- You should investigate and interpret feature associations from the first three principal components in this substep. To help facilitate this, you should write a function that you can call at any time to print the sorted list of feature weights, for the *i*-th principal component. This might come in handy in the next step of the project, when you interpret the tendencies of the discovered clusters."
   ]
  },
  {
   "cell_type": "code",
   "execution_count": 73,
   "metadata": {},
   "outputs": [],
   "source": [
    "# Map weights for the first principal component to corresponding feature names\n",
    "# and then print the linked values, sorted by weight.\n",
    "# HINT: Try defining a function here or in a new cell that you can reuse in the\n",
    "# other cells.\n",
    "\n",
    "\n",
    "def map_weights(pca, cols, component):\n",
    "    return pd.DataFrame({'attribute': cols, \n",
    "                         'weight': pca.components_[component]}).sort_values(by=['weight'], ascending=False)\n",
    "\n"
   ]
  },
  {
   "cell_type": "code",
   "execution_count": 74,
   "metadata": {},
   "outputs": [
    {
     "name": "stdout",
     "output_type": "stream",
     "text": [
      "                  attribute    weight\n",
      "194  CAMEO_INTL_2015_WEALTH  0.180798\n",
      "56               PLZ8_ANTG3  0.180743\n",
      "131      LP_STATUS_GROB_1.0  0.175803\n",
      "46                 EWDICHTE  0.154992\n",
      "58              PLZ8_BAUMAX  0.154454\n",
      ".....\n",
      "            attribute    weight\n",
      "44          KBA05_GBZ -0.175537\n",
      "40        KBA05_ANTG1 -0.178538\n",
      "54         PLZ8_ANTG1 -0.180438\n",
      "50         MOBI_REGIO -0.184040\n",
      "2   FINANZ_MINIMALIST -0.185604\n"
     ]
    }
   ],
   "source": [
    "map_weights_0 = map_weights(pca_60, df_clean_scaled.columns, 0)\n",
    "\n",
    "print(map_weights_0[:5])\n",
    "print(\".....\")\n",
    "print(map_weights_0[-5:])"
   ]
  },
  {
   "cell_type": "code",
   "execution_count": 75,
   "metadata": {},
   "outputs": [
    {
     "name": "stdout",
     "output_type": "stream",
     "text": [
      "               attribute    weight\n",
      "0   ALTERSKATEGORIE_GROB  0.226932\n",
      "4       FINANZ_VORSORGER  0.218178\n",
      "19             SEMIO_ERL  0.174631\n",
      "12        RETOURTYP_BK_S  0.156530\n",
      "18            SEMIO_LUST  0.149155\n",
      ".....\n",
      "                        attribute    weight\n",
      "15                      SEMIO_REL -0.214311\n",
      "5                  FINANZ_ANLEGER -0.221774\n",
      "6           FINANZ_UNAUFFAELLIGER -0.225115\n",
      "3                   FINANZ_SPARER -0.232484\n",
      "192  PRAEGENDE_JUGENDJAHRE_DECADE -0.237665\n"
     ]
    }
   ],
   "source": [
    "# Map weights for the second principal component to corresponding feature names\n",
    "# and then print the linked values, sorted by weight.\n",
    "\n",
    "map_weights_1 = map_weights(pca_60, df_clean_scaled.columns, 1)\n",
    "print(map_weights_1[:5])\n",
    "print(\".....\")\n",
    "print(map_weights_1[-5:])\n"
   ]
  },
  {
   "cell_type": "code",
   "execution_count": 76,
   "metadata": {},
   "outputs": [
    {
     "name": "stdout",
     "output_type": "stream",
     "text": [
      "     attribute    weight\n",
      "17  SEMIO_VERT  0.284919\n",
      "20  SEMIO_KULT  0.257166\n",
      "13   SEMIO_SOZ  0.256550\n",
      "14   SEMIO_FAM  0.145068\n",
      "57  PLZ8_ANTG4  0.126402\n",
      ".....\n",
      "     attribute    weight\n",
      "79  ZABEOTYP_3 -0.178414\n",
      "1    ANREDE_KZ -0.227245\n",
      "23   SEMIO_DOM -0.232344\n",
      "24  SEMIO_KAEM -0.262185\n",
      "22  SEMIO_KRIT -0.275912\n"
     ]
    }
   ],
   "source": [
    "# Map weights for the third principal component to corresponding feature names\n",
    "# and then print the linked values, sorted by weight.\n",
    "\n",
    "map_weights_2 = map_weights(pca_60, df_clean_scaled.columns, 2)\n",
    "print(map_weights_2[:5])\n",
    "print(\".....\")\n",
    "print(map_weights_2[-5:])\n"
   ]
  },
  {
   "cell_type": "markdown",
   "metadata": {},
   "source": [
    "### Discussion 2.3: Interpret Principal Components\n",
    "\n",
    "(Double-click this cell and replace this text with your own text, reporting your observations from detailed investigation of the first few principal components generated. Can we interpret positive and negative values from them in a meaningful way?)\n",
    "\n",
    "** Answer**:\n",
    "\n",
    "\n",
    "component 0 high postive value for CAMEO_INTL_2015_WEALTH, PLZ8_ANTG3, LP_STATUS_GROB_1.0\n",
    "\n",
    "component 0 low negative value for  PRAEGENDE_JUGENDJAHRE_DECADE, FINANZ_SPARER, FINANZ_UNAUFFAELLIGER\n",
    "\n",
    "component 1 high postive value for ALTERSKATEGORIE_GROB, FINANZ_VORSORGER, SEMIO_ERL.0\n",
    "\n",
    "component 1 low negative value for  PRAEGENDE_JUGENDJAHRE_DECADE, FINANZ_SPARER, FINANZ_UNAUFFAELLIGER\n",
    "\n",
    "component 2 high postive value for SEMIO_VERT, SEMIO_KULT, SEMIO_SOZ\n",
    "\n",
    "component 2 low negative value for  SEMIO_KRIT , SEMIO_KAEM , SEMIO_KAEM \n",
    "\n"
   ]
  },
  {
   "cell_type": "markdown",
   "metadata": {},
   "source": [
    "## Step 3: Clustering\n",
    "\n",
    "### Step 3.1: Apply Clustering to General Population\n",
    "\n",
    "You've assessed and cleaned the demographics data, then scaled and transformed them. Now, it's time to see how the data clusters in the principal components space. In this substep, you will apply k-means clustering to the dataset and use the average within-cluster distances from each point to their assigned cluster's centroid to decide on a number of clusters to keep.\n",
    "\n",
    "- Use sklearn's [KMeans](http://scikit-learn.org/stable/modules/generated/sklearn.cluster.KMeans.html#sklearn.cluster.KMeans) class to perform k-means clustering on the PCA-transformed data.\n",
    "- Then, compute the average difference from each point to its assigned cluster's center. **Hint**: The KMeans object's `.score()` method might be useful here, but note that in sklearn, scores tend to be defined so that larger is better. Try applying it to a small, toy dataset, or use an internet search to help your understanding.\n",
    "- Perform the above two steps for a number of different cluster counts. You can then see how the average distance decreases with an increasing number of clusters. However, each additional cluster provides a smaller net benefit. Use this fact to select a final number of clusters in which to group the data. **Warning**: because of the large size of the dataset, it can take a long time for the algorithm to resolve. The more clusters to fit, the longer the algorithm will take. You should test for cluster counts through at least 10 clusters to get the full picture, but you shouldn't need to test for a number of clusters above about 30.\n",
    "- Once you've selected a final number of clusters to use, re-fit a KMeans instance to perform the clustering operation. Make sure that you also obtain the cluster assignments for the general demographics data, since you'll be using them in the final Step 3.3."
   ]
  },
  {
   "cell_type": "code",
   "execution_count": 77,
   "metadata": {},
   "outputs": [],
   "source": [
    "# get k means score \n",
    "def get_k_means_score(df, n_cluster):\n",
    "    kmeans = KMeans(n_clusters = n_cluster)\n",
    "    model = kmeans.fit(df)\n",
    "    return np.abs(model.score(df))\n"
   ]
  },
  {
   "cell_type": "code",
   "execution_count": 78,
   "metadata": {},
   "outputs": [],
   "source": [
    "df_pca = pca_60.fit_transform(df_clean_scaled)\n"
   ]
  },
  {
   "cell_type": "code",
   "execution_count": 80,
   "metadata": {},
   "outputs": [
    {
     "name": "stdout",
     "output_type": "stream",
     "text": [
      "total running time: 11.678998708724976 n_cluster: 1 score: 116763958.03586413\n",
      "total running time: 68.71799802780151 n_cluster: 3 score: 101121788.10247453\n",
      "total running time: 86.46199893951416 n_cluster: 5 score: 93533477.86657958\n",
      "total running time: 124.25700354576111 n_cluster: 7 score: 89715756.52535245\n",
      "total running time: 189.06499791145325 n_cluster: 9 score: 86820920.84788667\n",
      "total running time: 200.4029984474182 n_cluster: 11 score: 84769114.83299409\n",
      "total running time: 302.64704847335815 n_cluster: 13 score: 82865170.4888631\n",
      "total running time: 444.28968834877014 n_cluster: 15 score: 81246103.3214506\n"
     ]
    },
    {
     "ename": "KeyboardInterrupt",
     "evalue": "",
     "output_type": "error",
     "traceback": [
      "\u001b[1;31m---------------------------------------------------------------------------\u001b[0m",
      "\u001b[1;31mKeyboardInterrupt\u001b[0m                         Traceback (most recent call last)",
      "\u001b[1;32m<ipython-input-80-5a6c0ce5883c>\u001b[0m in \u001b[0;36m<module>\u001b[1;34m\u001b[0m\n\u001b[0;32m      6\u001b[0m \u001b[1;32mfor\u001b[0m \u001b[0mn_cluster\u001b[0m \u001b[1;32min\u001b[0m \u001b[0mrange\u001b[0m\u001b[1;33m(\u001b[0m\u001b[1;36m1\u001b[0m\u001b[1;33m,\u001b[0m\u001b[1;36m30\u001b[0m\u001b[1;33m,\u001b[0m\u001b[1;36m2\u001b[0m\u001b[1;33m)\u001b[0m\u001b[1;33m:\u001b[0m\u001b[1;33m\u001b[0m\u001b[1;33m\u001b[0m\u001b[0m\n\u001b[0;32m      7\u001b[0m     \u001b[0mstart\u001b[0m \u001b[1;33m=\u001b[0m \u001b[0mtime\u001b[0m\u001b[1;33m.\u001b[0m\u001b[0mtime\u001b[0m\u001b[1;33m(\u001b[0m\u001b[1;33m)\u001b[0m\u001b[1;33m\u001b[0m\u001b[1;33m\u001b[0m\u001b[0m\n\u001b[1;32m----> 8\u001b[1;33m     \u001b[0mscore\u001b[0m \u001b[1;33m=\u001b[0m \u001b[0mget_k_means_score\u001b[0m\u001b[1;33m(\u001b[0m\u001b[0mdf_pca\u001b[0m\u001b[1;33m,\u001b[0m \u001b[0mn_cluster\u001b[0m\u001b[1;33m)\u001b[0m\u001b[1;33m\u001b[0m\u001b[1;33m\u001b[0m\u001b[0m\n\u001b[0m\u001b[0;32m      9\u001b[0m     \u001b[0mn_clusters_2_scores\u001b[0m\u001b[1;33m.\u001b[0m\u001b[0mappend\u001b[0m\u001b[1;33m(\u001b[0m\u001b[1;33m{\u001b[0m\u001b[1;34m\"n_cluster\"\u001b[0m\u001b[1;33m:\u001b[0m \u001b[0mn_cluster\u001b[0m\u001b[1;33m,\u001b[0m \u001b[1;34m\"score\"\u001b[0m\u001b[1;33m:\u001b[0m \u001b[0mscore\u001b[0m\u001b[1;33m}\u001b[0m\u001b[1;33m)\u001b[0m\u001b[1;33m\u001b[0m\u001b[1;33m\u001b[0m\u001b[0m\n\u001b[0;32m     10\u001b[0m     \u001b[0mprint\u001b[0m\u001b[1;33m(\u001b[0m\u001b[1;34m\"total running time:\"\u001b[0m\u001b[1;33m,\u001b[0m \u001b[0mtime\u001b[0m\u001b[1;33m.\u001b[0m\u001b[0mtime\u001b[0m\u001b[1;33m(\u001b[0m\u001b[1;33m)\u001b[0m \u001b[1;33m-\u001b[0m \u001b[0mstart\u001b[0m\u001b[1;33m,\u001b[0m\u001b[1;34m\"n_cluster:\"\u001b[0m\u001b[1;33m,\u001b[0m \u001b[0mn_cluster\u001b[0m\u001b[1;33m,\u001b[0m \u001b[1;34m\"score:\"\u001b[0m\u001b[1;33m,\u001b[0m\u001b[0mscore\u001b[0m\u001b[1;33m)\u001b[0m\u001b[1;33m\u001b[0m\u001b[1;33m\u001b[0m\u001b[0m\n",
      "\u001b[1;32m<ipython-input-77-314f2f0605d3>\u001b[0m in \u001b[0;36mget_k_means_score\u001b[1;34m(df, n_cluster)\u001b[0m\n\u001b[0;32m      2\u001b[0m \u001b[1;32mdef\u001b[0m \u001b[0mget_k_means_score\u001b[0m\u001b[1;33m(\u001b[0m\u001b[0mdf\u001b[0m\u001b[1;33m,\u001b[0m \u001b[0mn_cluster\u001b[0m\u001b[1;33m)\u001b[0m\u001b[1;33m:\u001b[0m\u001b[1;33m\u001b[0m\u001b[1;33m\u001b[0m\u001b[0m\n\u001b[0;32m      3\u001b[0m     \u001b[0mkmeans\u001b[0m \u001b[1;33m=\u001b[0m \u001b[0mKMeans\u001b[0m\u001b[1;33m(\u001b[0m\u001b[0mn_clusters\u001b[0m \u001b[1;33m=\u001b[0m \u001b[0mn_cluster\u001b[0m\u001b[1;33m)\u001b[0m\u001b[1;33m\u001b[0m\u001b[1;33m\u001b[0m\u001b[0m\n\u001b[1;32m----> 4\u001b[1;33m     \u001b[0mmodel\u001b[0m \u001b[1;33m=\u001b[0m \u001b[0mkmeans\u001b[0m\u001b[1;33m.\u001b[0m\u001b[0mfit\u001b[0m\u001b[1;33m(\u001b[0m\u001b[0mdf\u001b[0m\u001b[1;33m)\u001b[0m\u001b[1;33m\u001b[0m\u001b[1;33m\u001b[0m\u001b[0m\n\u001b[0m\u001b[0;32m      5\u001b[0m     \u001b[1;32mreturn\u001b[0m \u001b[0mnp\u001b[0m\u001b[1;33m.\u001b[0m\u001b[0mabs\u001b[0m\u001b[1;33m(\u001b[0m\u001b[0mmodel\u001b[0m\u001b[1;33m.\u001b[0m\u001b[0mscore\u001b[0m\u001b[1;33m(\u001b[0m\u001b[0mdf\u001b[0m\u001b[1;33m)\u001b[0m\u001b[1;33m)\u001b[0m\u001b[1;33m\u001b[0m\u001b[1;33m\u001b[0m\u001b[0m\n",
      "\u001b[1;32m~\\AppData\\Local\\Continuum\\anaconda3\\lib\\site-packages\\sklearn\\cluster\\k_means_.py\u001b[0m in \u001b[0;36mfit\u001b[1;34m(self, X, y, sample_weight)\u001b[0m\n\u001b[0;32m    970\u001b[0m                 \u001b[0mtol\u001b[0m\u001b[1;33m=\u001b[0m\u001b[0mself\u001b[0m\u001b[1;33m.\u001b[0m\u001b[0mtol\u001b[0m\u001b[1;33m,\u001b[0m \u001b[0mrandom_state\u001b[0m\u001b[1;33m=\u001b[0m\u001b[0mrandom_state\u001b[0m\u001b[1;33m,\u001b[0m \u001b[0mcopy_x\u001b[0m\u001b[1;33m=\u001b[0m\u001b[0mself\u001b[0m\u001b[1;33m.\u001b[0m\u001b[0mcopy_x\u001b[0m\u001b[1;33m,\u001b[0m\u001b[1;33m\u001b[0m\u001b[1;33m\u001b[0m\u001b[0m\n\u001b[0;32m    971\u001b[0m                 \u001b[0mn_jobs\u001b[0m\u001b[1;33m=\u001b[0m\u001b[0mself\u001b[0m\u001b[1;33m.\u001b[0m\u001b[0mn_jobs\u001b[0m\u001b[1;33m,\u001b[0m \u001b[0malgorithm\u001b[0m\u001b[1;33m=\u001b[0m\u001b[0mself\u001b[0m\u001b[1;33m.\u001b[0m\u001b[0malgorithm\u001b[0m\u001b[1;33m,\u001b[0m\u001b[1;33m\u001b[0m\u001b[1;33m\u001b[0m\u001b[0m\n\u001b[1;32m--> 972\u001b[1;33m                 return_n_iter=True)\n\u001b[0m\u001b[0;32m    973\u001b[0m         \u001b[1;32mreturn\u001b[0m \u001b[0mself\u001b[0m\u001b[1;33m\u001b[0m\u001b[1;33m\u001b[0m\u001b[0m\n\u001b[0;32m    974\u001b[0m \u001b[1;33m\u001b[0m\u001b[0m\n",
      "\u001b[1;32m~\\AppData\\Local\\Continuum\\anaconda3\\lib\\site-packages\\sklearn\\cluster\\k_means_.py\u001b[0m in \u001b[0;36mk_means\u001b[1;34m(X, n_clusters, sample_weight, init, precompute_distances, n_init, max_iter, verbose, tol, random_state, copy_x, n_jobs, algorithm, return_n_iter)\u001b[0m\n\u001b[0;32m    379\u001b[0m                 \u001b[0mverbose\u001b[0m\u001b[1;33m=\u001b[0m\u001b[0mverbose\u001b[0m\u001b[1;33m,\u001b[0m \u001b[0mprecompute_distances\u001b[0m\u001b[1;33m=\u001b[0m\u001b[0mprecompute_distances\u001b[0m\u001b[1;33m,\u001b[0m\u001b[1;33m\u001b[0m\u001b[1;33m\u001b[0m\u001b[0m\n\u001b[0;32m    380\u001b[0m                 \u001b[0mtol\u001b[0m\u001b[1;33m=\u001b[0m\u001b[0mtol\u001b[0m\u001b[1;33m,\u001b[0m \u001b[0mx_squared_norms\u001b[0m\u001b[1;33m=\u001b[0m\u001b[0mx_squared_norms\u001b[0m\u001b[1;33m,\u001b[0m\u001b[1;33m\u001b[0m\u001b[1;33m\u001b[0m\u001b[0m\n\u001b[1;32m--> 381\u001b[1;33m                 random_state=random_state)\n\u001b[0m\u001b[0;32m    382\u001b[0m             \u001b[1;31m# determine if these results are the best so far\u001b[0m\u001b[1;33m\u001b[0m\u001b[1;33m\u001b[0m\u001b[1;33m\u001b[0m\u001b[0m\n\u001b[0;32m    383\u001b[0m             \u001b[1;32mif\u001b[0m \u001b[0mbest_inertia\u001b[0m \u001b[1;32mis\u001b[0m \u001b[1;32mNone\u001b[0m \u001b[1;32mor\u001b[0m \u001b[0minertia\u001b[0m \u001b[1;33m<\u001b[0m \u001b[0mbest_inertia\u001b[0m\u001b[1;33m:\u001b[0m\u001b[1;33m\u001b[0m\u001b[1;33m\u001b[0m\u001b[0m\n",
      "\u001b[1;32m~\\AppData\\Local\\Continuum\\anaconda3\\lib\\site-packages\\sklearn\\cluster\\k_means_.py\u001b[0m in \u001b[0;36m_kmeans_single_elkan\u001b[1;34m(X, sample_weight, n_clusters, max_iter, init, verbose, x_squared_norms, random_state, tol, precompute_distances)\u001b[0m\n\u001b[0;32m    443\u001b[0m     centers, labels, n_iter = k_means_elkan(X, checked_sample_weight,\n\u001b[0;32m    444\u001b[0m                                             \u001b[0mn_clusters\u001b[0m\u001b[1;33m,\u001b[0m \u001b[0mcenters\u001b[0m\u001b[1;33m,\u001b[0m \u001b[0mtol\u001b[0m\u001b[1;33m=\u001b[0m\u001b[0mtol\u001b[0m\u001b[1;33m,\u001b[0m\u001b[1;33m\u001b[0m\u001b[1;33m\u001b[0m\u001b[0m\n\u001b[1;32m--> 445\u001b[1;33m                                             max_iter=max_iter, verbose=verbose)\n\u001b[0m\u001b[0;32m    446\u001b[0m     \u001b[1;32mif\u001b[0m \u001b[0msample_weight\u001b[0m \u001b[1;32mis\u001b[0m \u001b[1;32mNone\u001b[0m\u001b[1;33m:\u001b[0m\u001b[1;33m\u001b[0m\u001b[1;33m\u001b[0m\u001b[0m\n\u001b[0;32m    447\u001b[0m         \u001b[0minertia\u001b[0m \u001b[1;33m=\u001b[0m \u001b[0mnp\u001b[0m\u001b[1;33m.\u001b[0m\u001b[0msum\u001b[0m\u001b[1;33m(\u001b[0m\u001b[1;33m(\u001b[0m\u001b[0mX\u001b[0m \u001b[1;33m-\u001b[0m \u001b[0mcenters\u001b[0m\u001b[1;33m[\u001b[0m\u001b[0mlabels\u001b[0m\u001b[1;33m]\u001b[0m\u001b[1;33m)\u001b[0m \u001b[1;33m**\u001b[0m \u001b[1;36m2\u001b[0m\u001b[1;33m,\u001b[0m \u001b[0mdtype\u001b[0m\u001b[1;33m=\u001b[0m\u001b[0mnp\u001b[0m\u001b[1;33m.\u001b[0m\u001b[0mfloat64\u001b[0m\u001b[1;33m)\u001b[0m\u001b[1;33m\u001b[0m\u001b[1;33m\u001b[0m\u001b[0m\n",
      "\u001b[1;32msklearn\\cluster\\_k_means_elkan.pyx\u001b[0m in \u001b[0;36msklearn.cluster._k_means_elkan.k_means_elkan\u001b[1;34m()\u001b[0m\n",
      "\u001b[1;32m~\\AppData\\Local\\Continuum\\anaconda3\\lib\\site-packages\\numpy\\core\\fromnumeric.py\u001b[0m in \u001b[0;36msum\u001b[1;34m(a, axis, dtype, out, keepdims, initial)\u001b[0m\n\u001b[0;32m   1964\u001b[0m \u001b[1;33m\u001b[0m\u001b[0m\n\u001b[0;32m   1965\u001b[0m \u001b[1;33m\u001b[0m\u001b[0m\n\u001b[1;32m-> 1966\u001b[1;33m \u001b[1;33m@\u001b[0m\u001b[0marray_function_dispatch\u001b[0m\u001b[1;33m(\u001b[0m\u001b[0m_sum_dispatcher\u001b[0m\u001b[1;33m)\u001b[0m\u001b[1;33m\u001b[0m\u001b[1;33m\u001b[0m\u001b[0m\n\u001b[0m\u001b[0;32m   1967\u001b[0m \u001b[1;32mdef\u001b[0m \u001b[0msum\u001b[0m\u001b[1;33m(\u001b[0m\u001b[0ma\u001b[0m\u001b[1;33m,\u001b[0m \u001b[0maxis\u001b[0m\u001b[1;33m=\u001b[0m\u001b[1;32mNone\u001b[0m\u001b[1;33m,\u001b[0m \u001b[0mdtype\u001b[0m\u001b[1;33m=\u001b[0m\u001b[1;32mNone\u001b[0m\u001b[1;33m,\u001b[0m \u001b[0mout\u001b[0m\u001b[1;33m=\u001b[0m\u001b[1;32mNone\u001b[0m\u001b[1;33m,\u001b[0m \u001b[0mkeepdims\u001b[0m\u001b[1;33m=\u001b[0m\u001b[0mnp\u001b[0m\u001b[1;33m.\u001b[0m\u001b[0m_NoValue\u001b[0m\u001b[1;33m,\u001b[0m \u001b[0minitial\u001b[0m\u001b[1;33m=\u001b[0m\u001b[0mnp\u001b[0m\u001b[1;33m.\u001b[0m\u001b[0m_NoValue\u001b[0m\u001b[1;33m)\u001b[0m\u001b[1;33m:\u001b[0m\u001b[1;33m\u001b[0m\u001b[1;33m\u001b[0m\u001b[0m\n\u001b[0;32m   1968\u001b[0m     \"\"\"\n",
      "\u001b[1;31mKeyboardInterrupt\u001b[0m: "
     ]
    }
   ],
   "source": [
    "import time\n",
    "# Over a number of different cluster counts...\n",
    "n_clusters_2_scores = []\n",
    "\n",
    "\n",
    "for n_cluster in range(2,20,2):\n",
    "    start = time.time()\n",
    "    score = get_k_means_score(df_pca, n_cluster)\n",
    "    n_clusters_2_scores.append({\"n_cluster\": n_cluster, \"score\": score})\n",
    "    print(\"total running time:\", time.time() - start,\"n_cluster:\", n_cluster, \"score:\",score)\n",
    "\n",
    "#n_clusters_2_scores\n",
    "# run k-means clustering on the data and...\n",
    "    \n",
    "    \n",
    "# compute the average within-cluster distances.\n",
    "    \n",
    "    "
   ]
  },
  {
   "cell_type": "code",
   "execution_count": 81,
   "metadata": {},
   "outputs": [
    {
     "data": {
      "text/plain": [
       "[{'n_cluster': 1, 'score': 116763958.03586413},\n",
       " {'n_cluster': 3, 'score': 101121788.10247453},\n",
       " {'n_cluster': 5, 'score': 93533477.86657958},\n",
       " {'n_cluster': 7, 'score': 89715756.52535245},\n",
       " {'n_cluster': 9, 'score': 86820920.84788667},\n",
       " {'n_cluster': 11, 'score': 84769114.83299409},\n",
       " {'n_cluster': 13, 'score': 82865170.4888631},\n",
       " {'n_cluster': 15, 'score': 81246103.3214506}]"
      ]
     },
     "execution_count": 81,
     "metadata": {},
     "output_type": "execute_result"
    }
   ],
   "source": [
    "n_clusters_2_scores"
   ]
  },
  {
   "cell_type": "code",
   "execution_count": 95,
   "metadata": {},
   "outputs": [],
   "source": [
    "prev_score = n_clusters_2_scores[0]['score']\n",
    "for d in n_clusters_2_scores:\n",
    "    d['distance'] =  prev_score - d['score']\n",
    "    prev_score = d['score']"
   ]
  },
  {
   "cell_type": "code",
   "execution_count": 87,
   "metadata": {},
   "outputs": [
    {
     "data": {
      "image/png": "[encoded data removed]",
      "text/plain": [
       "<Figure size 432x288 with 1 Axes>"
      ]
     },
     "metadata": {
      "needs_background": "light"
     },
     "output_type": "display_data"
    }
   ],
   "source": [
    "cluster_list = [d['n_cluster'] for d in n_clusters_2_scores]\n",
    "score_list = [d['score'] for d in n_clusters_2_scores]\n",
    "plt.plot(cluster_list, score_list, linestyle='--', marker='o', color='b');\n",
    "plt.xlabel('K');\n",
    "plt.ylabel('Score');\n",
    "plt.title('Score vs. K');"
   ]
  },
  {
   "cell_type": "code",
   "execution_count": 96,
   "metadata": {},
   "outputs": [
    {
     "data": {
      "text/plain": [
       "[{'n_cluster': 1, 'score': 116763958.03586413, 'distance': 0.0},\n",
       " {'n_cluster': 3, 'score': 101121788.10247453, 'distance': 15642169.933389604},\n",
       " {'n_cluster': 5, 'score': 93533477.86657958, 'distance': 7588310.235894948},\n",
       " {'n_cluster': 7, 'score': 89715756.52535245, 'distance': 3817721.341227129},\n",
       " {'n_cluster': 9, 'score': 86820920.84788667, 'distance': 2894835.6774657816},\n",
       " {'n_cluster': 11, 'score': 84769114.83299409, 'distance': 2051806.0148925781},\n",
       " {'n_cluster': 13, 'score': 82865170.4888631, 'distance': 1903944.344130993},\n",
       " {'n_cluster': 15, 'score': 81246103.3214506, 'distance': 1619067.1674124897}]"
      ]
     },
     "execution_count": 96,
     "metadata": {},
     "output_type": "execute_result"
    }
   ],
   "source": [
    "n_clusters_2_scores"
   ]
  },
  {
   "cell_type": "code",
   "execution_count": null,
   "metadata": {},
   "outputs": [],
   "source": [
    "# Investigate the change in within-cluster distance across number of clusters.\n",
    "# HINT: Use matplotlib's plot function to visualize this relationship.\n",
    "\n"
   ]
  },
  {
   "cell_type": "code",
   "execution_count": 89,
   "metadata": {},
   "outputs": [],
   "source": [
    "# Re-fit the k-means model with the selected number of clusters and obtain\n",
    "# cluster predictions for the general population demographics data.\n",
    "\n",
    "kmeans_pred_general = KMeans(n_clusters=14).fit_predict(df_pca)\n"
   ]
  },
  {
   "cell_type": "code",
   "execution_count": 91,
   "metadata": {},
   "outputs": [
    {
     "data": {
      "text/plain": [
       "array([ 1,  4,  8, ...,  0,  3, 13])"
      ]
     },
     "execution_count": 91,
     "metadata": {},
     "output_type": "execute_result"
    }
   ],
   "source": [
    "kmeans_pred_general"
   ]
  },
  {
   "cell_type": "markdown",
   "metadata": {},
   "source": [
    "### Discussion 3.1: Apply Clustering to General Population\n",
    "\n",
    "(Double-click this cell and replace this text with your own text, reporting your findings and decisions regarding clustering. Into how many clusters have you decided to segment the population?)\n",
    "\n",
    "** Answer **:\n",
    "Following the above grpah of \"Score vs. K\", I select k = 14. "
   ]
  },
  {
   "cell_type": "markdown",
   "metadata": {},
   "source": [
    "### Step 3.2: Apply All Steps to the Customer Data\n",
    "\n",
    "Now that you have clusters and cluster centers for the general population, it's time to see how the customer data maps on to those clusters. Take care to not confuse this for re-fitting all of the models to the customer data. Instead, you're going to use the fits from the general population to clean, transform, and cluster the customer data. In the last step of the project, you will interpret how the general population fits apply to the customer data.\n",
    "\n",
    "- Don't forget when loading in the customers data, that it is semicolon (`;`) delimited.\n",
    "- Apply the same feature wrangling, selection, and engineering steps to the customer demographics using the `clean_data()` function you created earlier. (You can assume that the customer demographics data has similar meaning behind missing data patterns as the general demographics data.)\n",
    "- Use the sklearn objects from the general demographics data, and apply their transformations to the customers data. That is, you should not be using a `.fit()` or `.fit_transform()` method to re-fit the old objects, nor should you be creating new sklearn objects! Carry the data through the feature scaling, PCA, and clustering steps, obtaining cluster assignments for all of the data in the customer demographics data."
   ]
  },
  {
   "cell_type": "code",
   "execution_count": 128,
   "metadata": {},
   "outputs": [],
   "source": [
    "# Load in the customer demographics data.\n",
    "customers = pd.read_csv('Udacity_CUSTOMERS_Subset.csv',sep=';')"
   ]
  },
  {
   "cell_type": "code",
   "execution_count": 116,
   "metadata": {},
   "outputs": [
    {
     "data": {
      "text/html": [
       "<div>\n",
       "<style scoped>\n",
       "    .dataframe tbody tr th:only-of-type {\n",
       "        vertical-align: middle;\n",
       "    }\n",
       "\n",
       "    .dataframe tbody tr th {\n",
       "        vertical-align: top;\n",
       "    }\n",
       "\n",
       "    .dataframe thead th {\n",
       "        text-align: right;\n",
       "    }\n",
       "</style>\n",
       "<table border=\"1\" class=\"dataframe\">\n",
       "  <thead>\n",
       "    <tr style=\"text-align: right;\">\n",
       "      <th></th>\n",
       "      <th>AGER_TYP</th>\n",
       "      <th>ALTERSKATEGORIE_GROB</th>\n",
       "      <th>ANREDE_KZ</th>\n",
       "      <th>CJT_GESAMTTYP</th>\n",
       "      <th>FINANZ_MINIMALIST</th>\n",
       "      <th>FINANZ_SPARER</th>\n",
       "      <th>FINANZ_VORSORGER</th>\n",
       "      <th>FINANZ_ANLEGER</th>\n",
       "      <th>FINANZ_UNAUFFAELLIGER</th>\n",
       "      <th>FINANZ_HAUSBAUER</th>\n",
       "      <th>...</th>\n",
       "      <th>PLZ8_ANTG2</th>\n",
       "      <th>PLZ8_ANTG3</th>\n",
       "      <th>PLZ8_ANTG4</th>\n",
       "      <th>PLZ8_BAUMAX</th>\n",
       "      <th>PLZ8_HHZ</th>\n",
       "      <th>PLZ8_GBZ</th>\n",
       "      <th>ARBEIT</th>\n",
       "      <th>ORTSGR_KLS9</th>\n",
       "      <th>RELAT_AB</th>\n",
       "      <th>PRAEGENDE_JUGENDJAHRE_DECADE</th>\n",
       "    </tr>\n",
       "  </thead>\n",
       "  <tbody>\n",
       "    <tr>\n",
       "      <td>0</td>\n",
       "      <td>2</td>\n",
       "      <td>4</td>\n",
       "      <td>1</td>\n",
       "      <td>5.0</td>\n",
       "      <td>5</td>\n",
       "      <td>1</td>\n",
       "      <td>5</td>\n",
       "      <td>1</td>\n",
       "      <td>2</td>\n",
       "      <td>2</td>\n",
       "      <td>...</td>\n",
       "      <td>3.0</td>\n",
       "      <td>1.0</td>\n",
       "      <td>0.0</td>\n",
       "      <td>1.0</td>\n",
       "      <td>5.0</td>\n",
       "      <td>5.0</td>\n",
       "      <td>1.0</td>\n",
       "      <td>2.0</td>\n",
       "      <td>1.0</td>\n",
       "      <td>2.0</td>\n",
       "    </tr>\n",
       "    <tr>\n",
       "      <td>1</td>\n",
       "      <td>-1</td>\n",
       "      <td>4</td>\n",
       "      <td>1</td>\n",
       "      <td>NaN</td>\n",
       "      <td>5</td>\n",
       "      <td>1</td>\n",
       "      <td>5</td>\n",
       "      <td>1</td>\n",
       "      <td>3</td>\n",
       "      <td>2</td>\n",
       "      <td>...</td>\n",
       "      <td>NaN</td>\n",
       "      <td>NaN</td>\n",
       "      <td>NaN</td>\n",
       "      <td>NaN</td>\n",
       "      <td>NaN</td>\n",
       "      <td>NaN</td>\n",
       "      <td>NaN</td>\n",
       "      <td>NaN</td>\n",
       "      <td>NaN</td>\n",
       "      <td>NaN</td>\n",
       "    </tr>\n",
       "    <tr>\n",
       "      <td>2</td>\n",
       "      <td>-1</td>\n",
       "      <td>4</td>\n",
       "      <td>2</td>\n",
       "      <td>2.0</td>\n",
       "      <td>5</td>\n",
       "      <td>1</td>\n",
       "      <td>5</td>\n",
       "      <td>1</td>\n",
       "      <td>4</td>\n",
       "      <td>4</td>\n",
       "      <td>...</td>\n",
       "      <td>3.0</td>\n",
       "      <td>3.0</td>\n",
       "      <td>1.0</td>\n",
       "      <td>3.0</td>\n",
       "      <td>3.0</td>\n",
       "      <td>2.0</td>\n",
       "      <td>3.0</td>\n",
       "      <td>5.0</td>\n",
       "      <td>3.0</td>\n",
       "      <td>2.0</td>\n",
       "    </tr>\n",
       "    <tr>\n",
       "      <td>3</td>\n",
       "      <td>1</td>\n",
       "      <td>4</td>\n",
       "      <td>1</td>\n",
       "      <td>2.0</td>\n",
       "      <td>5</td>\n",
       "      <td>1</td>\n",
       "      <td>5</td>\n",
       "      <td>2</td>\n",
       "      <td>1</td>\n",
       "      <td>2</td>\n",
       "      <td>...</td>\n",
       "      <td>2.0</td>\n",
       "      <td>1.0</td>\n",
       "      <td>0.0</td>\n",
       "      <td>1.0</td>\n",
       "      <td>3.0</td>\n",
       "      <td>4.0</td>\n",
       "      <td>1.0</td>\n",
       "      <td>3.0</td>\n",
       "      <td>1.0</td>\n",
       "      <td>1.0</td>\n",
       "    </tr>\n",
       "    <tr>\n",
       "      <td>4</td>\n",
       "      <td>-1</td>\n",
       "      <td>3</td>\n",
       "      <td>1</td>\n",
       "      <td>6.0</td>\n",
       "      <td>3</td>\n",
       "      <td>1</td>\n",
       "      <td>4</td>\n",
       "      <td>4</td>\n",
       "      <td>5</td>\n",
       "      <td>2</td>\n",
       "      <td>...</td>\n",
       "      <td>4.0</td>\n",
       "      <td>2.0</td>\n",
       "      <td>1.0</td>\n",
       "      <td>2.0</td>\n",
       "      <td>3.0</td>\n",
       "      <td>3.0</td>\n",
       "      <td>3.0</td>\n",
       "      <td>5.0</td>\n",
       "      <td>1.0</td>\n",
       "      <td>4.0</td>\n",
       "    </tr>\n",
       "  </tbody>\n",
       "</table>\n",
       "<p>5 rows × 86 columns</p>\n",
       "</div>"
      ],
      "text/plain": [
       "   AGER_TYP  ALTERSKATEGORIE_GROB  ANREDE_KZ  CJT_GESAMTTYP  \\\n",
       "0         2                     4          1            5.0   \n",
       "1        -1                     4          1            NaN   \n",
       "2        -1                     4          2            2.0   \n",
       "3         1                     4          1            2.0   \n",
       "4        -1                     3          1            6.0   \n",
       "\n",
       "   FINANZ_MINIMALIST  FINANZ_SPARER  FINANZ_VORSORGER  FINANZ_ANLEGER  \\\n",
       "0                  5              1                 5               1   \n",
       "1                  5              1                 5               1   \n",
       "2                  5              1                 5               1   \n",
       "3                  5              1                 5               2   \n",
       "4                  3              1                 4               4   \n",
       "\n",
       "   FINANZ_UNAUFFAELLIGER  FINANZ_HAUSBAUER  ...  PLZ8_ANTG2  PLZ8_ANTG3  \\\n",
       "0                      2                 2  ...         3.0         1.0   \n",
       "1                      3                 2  ...         NaN         NaN   \n",
       "2                      4                 4  ...         3.0         3.0   \n",
       "3                      1                 2  ...         2.0         1.0   \n",
       "4                      5                 2  ...         4.0         2.0   \n",
       "\n",
       "   PLZ8_ANTG4  PLZ8_BAUMAX  PLZ8_HHZ  PLZ8_GBZ  ARBEIT  ORTSGR_KLS9  RELAT_AB  \\\n",
       "0         0.0          1.0       5.0       5.0     1.0          2.0       1.0   \n",
       "1         NaN          NaN       NaN       NaN     NaN          NaN       NaN   \n",
       "2         1.0          3.0       3.0       2.0     3.0          5.0       3.0   \n",
       "3         0.0          1.0       3.0       4.0     1.0          3.0       1.0   \n",
       "4         1.0          2.0       3.0       3.0     3.0          5.0       1.0   \n",
       "\n",
       "   PRAEGENDE_JUGENDJAHRE_DECADE  \n",
       "0                           2.0  \n",
       "1                           NaN  \n",
       "2                           2.0  \n",
       "3                           1.0  \n",
       "4                           4.0  \n",
       "\n",
       "[5 rows x 86 columns]"
      ]
     },
     "execution_count": 116,
     "metadata": {},
     "output_type": "execute_result"
    }
   ],
   "source": [
    "customers.head()"
   ]
  },
  {
   "cell_type": "code",
   "execution_count": 117,
   "metadata": {},
   "outputs": [
    {
     "data": {
      "text/plain": [
       "(191652, 86)"
      ]
     },
     "execution_count": 117,
     "metadata": {},
     "output_type": "execute_result"
    }
   ],
   "source": [
    "customers.shape"
   ]
  },
  {
   "cell_type": "code",
   "execution_count": 129,
   "metadata": {},
   "outputs": [],
   "source": [
    "# Apply preprocessing, feature transformation, and clustering from the general\n",
    "# demographics onto the customer data, obtaining cluster predictions for the\n",
    "# customer demographics data.\n",
    "df_customers_clean = clean_data(customers)\n"
   ]
  },
  {
   "cell_type": "code",
   "execution_count": 121,
   "metadata": {},
   "outputs": [
    {
     "data": {
      "text/plain": [
       "(191652, 71)"
      ]
     },
     "execution_count": 121,
     "metadata": {},
     "output_type": "execute_result"
    }
   ],
   "source": [
    "df_customers_clean.shape"
   ]
  },
  {
   "cell_type": "code",
   "execution_count": 122,
   "metadata": {},
   "outputs": [
    {
     "name": "stdout",
     "output_type": "stream",
     "text": [
      "<class 'pandas.core.frame.DataFrame'>\n",
      "RangeIndex: 191652 entries, 0 to 191651\n",
      "Data columns (total 71 columns):\n",
      "ALTERSKATEGORIE_GROB     191412 non-null float64\n",
      "ANREDE_KZ                191652 non-null int64\n",
      "FINANZ_MINIMALIST        191652 non-null int64\n",
      "FINANZ_SPARER            191652 non-null int64\n",
      "FINANZ_VORSORGER         191652 non-null int64\n",
      "FINANZ_ANLEGER           191652 non-null int64\n",
      "FINANZ_UNAUFFAELLIGER    191652 non-null int64\n",
      "FINANZ_HAUSBAUER         191652 non-null int64\n",
      "GREEN_AVANTGARDE         191652 non-null int64\n",
      "RETOURTYP_BK_S           188439 non-null float64\n",
      "SEMIO_SOZ                191652 non-null int64\n",
      "SEMIO_FAM                191652 non-null int64\n",
      "SEMIO_REL                191652 non-null int64\n",
      "SEMIO_MAT                191652 non-null int64\n",
      "SEMIO_VERT               191652 non-null int64\n",
      "SEMIO_LUST               191652 non-null int64\n",
      "SEMIO_ERL                191652 non-null int64\n",
      "SEMIO_KULT               191652 non-null int64\n",
      "SEMIO_RAT                191652 non-null int64\n",
      "SEMIO_KRIT               191652 non-null int64\n",
      "SEMIO_DOM                191652 non-null int64\n",
      "SEMIO_KAEM               191652 non-null int64\n",
      "SEMIO_PFLICHT            191652 non-null int64\n",
      "SEMIO_TRADV              191652 non-null int64\n",
      "HH_EINKOMMEN_SCORE       188684 non-null float64\n",
      "ONLINE_AFFINITAET        188439 non-null float64\n",
      "LP_STATUS_FEIN_1.0       191652 non-null uint8\n",
      "LP_STATUS_FEIN_2.0       191652 non-null uint8\n",
      "LP_STATUS_FEIN_3.0       191652 non-null uint8\n",
      "LP_STATUS_FEIN_4.0       191652 non-null uint8\n",
      "LP_STATUS_FEIN_5.0       191652 non-null uint8\n",
      "LP_STATUS_FEIN_6.0       191652 non-null uint8\n",
      "LP_STATUS_FEIN_7.0       191652 non-null uint8\n",
      "LP_STATUS_FEIN_8.0       191652 non-null uint8\n",
      "LP_STATUS_FEIN_9.0       191652 non-null uint8\n",
      "LP_STATUS_FEIN_10.0      191652 non-null uint8\n",
      "ZABEOTYP_1               191652 non-null uint8\n",
      "ZABEOTYP_2               191652 non-null uint8\n",
      "ZABEOTYP_3               191652 non-null uint8\n",
      "ZABEOTYP_4               191652 non-null uint8\n",
      "ZABEOTYP_5               191652 non-null uint8\n",
      "ZABEOTYP_6               191652 non-null uint8\n",
      "FINANZTYP_1              191652 non-null uint8\n",
      "FINANZTYP_2              191652 non-null uint8\n",
      "FINANZTYP_3              191652 non-null uint8\n",
      "FINANZTYP_4              191652 non-null uint8\n",
      "FINANZTYP_5              191652 non-null uint8\n",
      "FINANZTYP_6              191652 non-null uint8\n",
      "CJT_GESAMTTYP_1.0        191652 non-null uint8\n",
      "CJT_GESAMTTYP_2.0        191652 non-null uint8\n",
      "CJT_GESAMTTYP_3.0        191652 non-null uint8\n",
      "CJT_GESAMTTYP_4.0        191652 non-null uint8\n",
      "CJT_GESAMTTYP_5.0        191652 non-null uint8\n",
      "CJT_GESAMTTYP_6.0        191652 non-null uint8\n",
      "LP_STATUS_GROB_1.0       191652 non-null uint8\n",
      "LP_STATUS_GROB_2.0       191652 non-null uint8\n",
      "LP_STATUS_GROB_3.0       191652 non-null uint8\n",
      "LP_STATUS_GROB_4.0       191652 non-null uint8\n",
      "LP_STATUS_GROB_5.0       191652 non-null uint8\n",
      "GFK_URLAUBERTYP_1.0      191652 non-null uint8\n",
      "GFK_URLAUBERTYP_2.0      191652 non-null uint8\n",
      "GFK_URLAUBERTYP_3.0      191652 non-null uint8\n",
      "GFK_URLAUBERTYP_4.0      191652 non-null uint8\n",
      "GFK_URLAUBERTYP_5.0      191652 non-null uint8\n",
      "GFK_URLAUBERTYP_6.0      191652 non-null uint8\n",
      "GFK_URLAUBERTYP_7.0      191652 non-null uint8\n",
      "GFK_URLAUBERTYP_8.0      191652 non-null uint8\n",
      "GFK_URLAUBERTYP_9.0      191652 non-null uint8\n",
      "GFK_URLAUBERTYP_10.0     191652 non-null uint8\n",
      "GFK_URLAUBERTYP_11.0     191652 non-null uint8\n",
      "GFK_URLAUBERTYP_12.0     191652 non-null uint8\n",
      "dtypes: float64(4), int64(22), uint8(45)\n",
      "memory usage: 46.2 MB\n"
     ]
    }
   ],
   "source": [
    "df_customers_clean.info()"
   ]
  },
  {
   "cell_type": "code",
   "execution_count": 131,
   "metadata": {},
   "outputs": [
    {
     "name": "stderr",
     "output_type": "stream",
     "text": [
      "C:\\Users\\Itzik.Jan\\AppData\\Local\\Continuum\\anaconda3\\lib\\site-packages\\sklearn\\utils\\deprecation.py:66: DeprecationWarning: Class Imputer is deprecated; Imputer was deprecated in version 0.20 and will be removed in 0.22. Import impute.SimpleImputer from sklearn instead.\n",
      "  warnings.warn(msg, category=DeprecationWarning)\n"
     ]
    }
   ],
   "source": [
    "df_customers_imputed = pd.DataFrame(Imputer(strategy='most_frequent').fit_transform(df_customers_clean))\n",
    "\n",
    "\n",
    "df_customers_imputed.columns = df_customers_clean.columns\n",
    "df_customers_imputed.index = df_customers_clean.index"
   ]
  },
  {
   "cell_type": "code",
   "execution_count": 132,
   "metadata": {},
   "outputs": [],
   "source": [
    "scaler = StandardScaler() \n",
    "\n",
    "df_csutomers_clean_scaled = pd.DataFrame(scaler.fit_transform(df_customers_imputed), columns=list(df_customers_imputed))"
   ]
  },
  {
   "cell_type": "code",
   "execution_count": 133,
   "metadata": {},
   "outputs": [
    {
     "data": {
      "image/png": "[encoded data removed]",
      "text/plain": [
       "<Figure size 1080x360 with 2 Axes>"
      ]
     },
     "metadata": {
      "needs_background": "light"
     },
     "output_type": "display_data"
    }
   ],
   "source": [
    "pca_csutomers_60, X_csutomers_pca_60 = do_pca(df_csutomers_clean_scaled, 60)\n",
    "create_scree_plot_2(pca_csutomers_60)"
   ]
  },
  {
   "cell_type": "code",
   "execution_count": 166,
   "metadata": {},
   "outputs": [],
   "source": [
    "df_csutomers_pca = pca_csutomers_60.fit_transform(df_csutomers_clean_scaled)\n",
    "\n",
    "kmeans_pred_customers = KMeans(n_clusters=14).fit_predict(df_csutomers_pca)"
   ]
  },
  {
   "cell_type": "markdown",
   "metadata": {},
   "source": [
    "### Step 3.3: Compare Customer Data to Demographics Data\n",
    "\n",
    "At this point, you have clustered data based on demographics of the general population of Germany, and seen how the customer data for a mail-order sales company maps onto those demographic clusters. In this final substep, you will compare the two cluster distributions to see where the strongest customer base for the company is.\n",
    "\n",
    "Consider the proportion of persons in each cluster for the general population, and the proportions for the customers. If we think the company's customer base to be universal, then the cluster assignment proportions should be fairly similar between the two. If there are only particular segments of the population that are interested in the company's products, then we should see a mismatch from one to the other. If there is a higher proportion of persons in a cluster for the customer data compared to the general population (e.g. 5% of persons are assigned to a cluster for the general population, but 15% of the customer data is closest to that cluster's centroid) then that suggests the people in that cluster to be a target audience for the company. On the other hand, the proportion of the data in a cluster being larger in the general population than the customer data (e.g. only 2% of customers closest to a population centroid that captures 6% of the data) suggests that group of persons to be outside of the target demographics.\n",
    "\n",
    "Take a look at the following points in this step:\n",
    "\n",
    "- Compute the proportion of data points in each cluster for the general population and the customer data. Visualizations will be useful here: both for the individual dataset proportions, but also to visualize the ratios in cluster representation between groups. Seaborn's [`countplot()`](https://seaborn.pydata.org/generated/seaborn.countplot.html) or [`barplot()`](https://seaborn.pydata.org/generated/seaborn.barplot.html) function could be handy.\n",
    "  - Recall the analysis you performed in step 1.1.3 of the project, where you separated out certain data points from the dataset if they had more than a specified threshold of missing values. If you found that this group was qualitatively different from the main bulk of the data, you should treat this as an additional data cluster in this analysis. Make sure that you account for the number of data points in this subset, for both the general population and customer datasets, when making your computations!\n",
    "- Which cluster or clusters are overrepresented in the customer dataset compared to the general population? Select at least one such cluster and infer what kind of people might be represented by that cluster. Use the principal component interpretations from step 2.3 or look at additional components to help you make this inference. Alternatively, you can use the `.inverse_transform()` method of the PCA and StandardScaler objects to transform centroids back to the original data space and interpret the retrieved values directly.\n",
    "- Perform a similar investigation for the underrepresented clusters. Which cluster or clusters are underrepresented in the customer dataset compared to the general population, and what kinds of people are typified by these clusters?"
   ]
  },
  {
   "cell_type": "code",
   "execution_count": 167,
   "metadata": {},
   "outputs": [],
   "source": [
    "# Compare the proportion of data in each cluster for the customer data to the\n",
    "# proportion of data in each cluster for the general population.\n",
    "from collections import Counter\n",
    "kmeans_pred_general_count = Counter(kmeans_pred_general)\n",
    "kmeans_pred_customers_count = Counter(kmeans_pred_customers)"
   ]
  },
  {
   "cell_type": "code",
   "execution_count": 175,
   "metadata": {},
   "outputs": [],
   "source": [
    "df_kmeans_pred_general_count = pd.DataFrame.from_dict(kmeans_pred_general_count, orient='index').reset_index().rename(columns={\"index\":\"cluster\",0:\"count_general\"})\n",
    "df_kmeans_pred_customers_count = pd.DataFrame.from_dict(kmeans_pred_customers_count, orient='index').reset_index().rename(columns={\"index\":\"cluster\",0:\"count_customers\"})"
   ]
  },
  {
   "cell_type": "code",
   "execution_count": 176,
   "metadata": {},
   "outputs": [
    {
     "data": {
      "text/html": [
       "<div>\n",
       "<style scoped>\n",
       "    .dataframe tbody tr th:only-of-type {\n",
       "        vertical-align: middle;\n",
       "    }\n",
       "\n",
       "    .dataframe tbody tr th {\n",
       "        vertical-align: top;\n",
       "    }\n",
       "\n",
       "    .dataframe thead th {\n",
       "        text-align: right;\n",
       "    }\n",
       "</style>\n",
       "<table border=\"1\" class=\"dataframe\">\n",
       "  <thead>\n",
       "    <tr style=\"text-align: right;\">\n",
       "      <th></th>\n",
       "      <th>cluster</th>\n",
       "      <th>count_general</th>\n",
       "      <th>count_customers</th>\n",
       "    </tr>\n",
       "  </thead>\n",
       "  <tbody>\n",
       "    <tr>\n",
       "      <td>0</td>\n",
       "      <td>1</td>\n",
       "      <td>73791</td>\n",
       "      <td>13256</td>\n",
       "    </tr>\n",
       "    <tr>\n",
       "      <td>1</td>\n",
       "      <td>4</td>\n",
       "      <td>27973</td>\n",
       "      <td>36446</td>\n",
       "    </tr>\n",
       "    <tr>\n",
       "      <td>2</td>\n",
       "      <td>8</td>\n",
       "      <td>68208</td>\n",
       "      <td>7181</td>\n",
       "    </tr>\n",
       "    <tr>\n",
       "      <td>3</td>\n",
       "      <td>2</td>\n",
       "      <td>32457</td>\n",
       "      <td>46733</td>\n",
       "    </tr>\n",
       "    <tr>\n",
       "      <td>4</td>\n",
       "      <td>13</td>\n",
       "      <td>87619</td>\n",
       "      <td>14497</td>\n",
       "    </tr>\n",
       "    <tr>\n",
       "      <td>5</td>\n",
       "      <td>0</td>\n",
       "      <td>85908</td>\n",
       "      <td>4628</td>\n",
       "    </tr>\n",
       "    <tr>\n",
       "      <td>6</td>\n",
       "      <td>6</td>\n",
       "      <td>32249</td>\n",
       "      <td>8197</td>\n",
       "    </tr>\n",
       "    <tr>\n",
       "      <td>7</td>\n",
       "      <td>5</td>\n",
       "      <td>71867</td>\n",
       "      <td>4710</td>\n",
       "    </tr>\n",
       "    <tr>\n",
       "      <td>8</td>\n",
       "      <td>11</td>\n",
       "      <td>88648</td>\n",
       "      <td>4499</td>\n",
       "    </tr>\n",
       "    <tr>\n",
       "      <td>9</td>\n",
       "      <td>3</td>\n",
       "      <td>68096</td>\n",
       "      <td>20669</td>\n",
       "    </tr>\n",
       "    <tr>\n",
       "      <td>10</td>\n",
       "      <td>9</td>\n",
       "      <td>91234</td>\n",
       "      <td>12711</td>\n",
       "    </tr>\n",
       "    <tr>\n",
       "      <td>11</td>\n",
       "      <td>12</td>\n",
       "      <td>93939</td>\n",
       "      <td>5171</td>\n",
       "    </tr>\n",
       "    <tr>\n",
       "      <td>12</td>\n",
       "      <td>10</td>\n",
       "      <td>36451</td>\n",
       "      <td>5180</td>\n",
       "    </tr>\n",
       "    <tr>\n",
       "      <td>13</td>\n",
       "      <td>7</td>\n",
       "      <td>32781</td>\n",
       "      <td>7774</td>\n",
       "    </tr>\n",
       "  </tbody>\n",
       "</table>\n",
       "</div>"
      ],
      "text/plain": [
       "    cluster  count_general  count_customers\n",
       "0         1          73791            13256\n",
       "1         4          27973            36446\n",
       "2         8          68208             7181\n",
       "3         2          32457            46733\n",
       "4        13          87619            14497\n",
       "5         0          85908             4628\n",
       "6         6          32249             8197\n",
       "7         5          71867             4710\n",
       "8        11          88648             4499\n",
       "9         3          68096            20669\n",
       "10        9          91234            12711\n",
       "11       12          93939             5171\n",
       "12       10          36451             5180\n",
       "13        7          32781             7774"
      ]
     },
     "execution_count": 176,
     "metadata": {},
     "output_type": "execute_result"
    }
   ],
   "source": [
    "df_comp = pd.merge(df_kmeans_pred_general_count, df_kmeans_pred_customers_count, how='inner', on=\"cluster\")\n",
    "df_comp"
   ]
  },
  {
   "cell_type": "code",
   "execution_count": 177,
   "metadata": {},
   "outputs": [
    {
     "data": {
      "image/png": "[encoded data removed]",
      "text/plain": [
       "<Figure size 648x432 with 1 Axes>"
      ]
     },
     "metadata": {
      "needs_background": "light"
     },
     "output_type": "display_data"
    }
   ],
   "source": [
    "df_comp.plot(x='cluster', y = ['count_general', 'count_customers'], kind='bar', figsize=(9,6))\n",
    "plt.ylabel('count of persons in each cluster')\n",
    "plt.show()"
   ]
  },
  {
   "cell_type": "code",
   "execution_count": 179,
   "metadata": {},
   "outputs": [],
   "source": [
    "\n",
    "\n",
    "df_comp[\"proportion_customers\"] = df_comp['count_customers']/df_comp['count_customers'].sum()\n",
    "df_comp[\"proportion_general\"] = df_comp['count_general']/df_comp['count_general'].sum()"
   ]
  },
  {
   "cell_type": "code",
   "execution_count": 180,
   "metadata": {},
   "outputs": [
    {
     "data": {
      "text/html": [
       "<div>\n",
       "<style scoped>\n",
       "    .dataframe tbody tr th:only-of-type {\n",
       "        vertical-align: middle;\n",
       "    }\n",
       "\n",
       "    .dataframe tbody tr th {\n",
       "        vertical-align: top;\n",
       "    }\n",
       "\n",
       "    .dataframe thead th {\n",
       "        text-align: right;\n",
       "    }\n",
       "</style>\n",
       "<table border=\"1\" class=\"dataframe\">\n",
       "  <thead>\n",
       "    <tr style=\"text-align: right;\">\n",
       "      <th></th>\n",
       "      <th>cluster</th>\n",
       "      <th>count_general</th>\n",
       "      <th>count_customers</th>\n",
       "      <th>proportion_customers</th>\n",
       "      <th>proportion_general</th>\n",
       "    </tr>\n",
       "  </thead>\n",
       "  <tbody>\n",
       "    <tr>\n",
       "      <td>0</td>\n",
       "      <td>1</td>\n",
       "      <td>73791</td>\n",
       "      <td>13256</td>\n",
       "      <td>0.069167</td>\n",
       "      <td>0.082798</td>\n",
       "    </tr>\n",
       "    <tr>\n",
       "      <td>1</td>\n",
       "      <td>4</td>\n",
       "      <td>27973</td>\n",
       "      <td>36446</td>\n",
       "      <td>0.190168</td>\n",
       "      <td>0.031387</td>\n",
       "    </tr>\n",
       "    <tr>\n",
       "      <td>2</td>\n",
       "      <td>8</td>\n",
       "      <td>68208</td>\n",
       "      <td>7181</td>\n",
       "      <td>0.037469</td>\n",
       "      <td>0.076533</td>\n",
       "    </tr>\n",
       "    <tr>\n",
       "      <td>3</td>\n",
       "      <td>2</td>\n",
       "      <td>32457</td>\n",
       "      <td>46733</td>\n",
       "      <td>0.243843</td>\n",
       "      <td>0.036419</td>\n",
       "    </tr>\n",
       "    <tr>\n",
       "      <td>4</td>\n",
       "      <td>13</td>\n",
       "      <td>87619</td>\n",
       "      <td>14497</td>\n",
       "      <td>0.075642</td>\n",
       "      <td>0.098313</td>\n",
       "    </tr>\n",
       "    <tr>\n",
       "      <td>5</td>\n",
       "      <td>0</td>\n",
       "      <td>85908</td>\n",
       "      <td>4628</td>\n",
       "      <td>0.024148</td>\n",
       "      <td>0.096394</td>\n",
       "    </tr>\n",
       "    <tr>\n",
       "      <td>6</td>\n",
       "      <td>6</td>\n",
       "      <td>32249</td>\n",
       "      <td>8197</td>\n",
       "      <td>0.042770</td>\n",
       "      <td>0.036185</td>\n",
       "    </tr>\n",
       "    <tr>\n",
       "      <td>7</td>\n",
       "      <td>5</td>\n",
       "      <td>71867</td>\n",
       "      <td>4710</td>\n",
       "      <td>0.024576</td>\n",
       "      <td>0.080639</td>\n",
       "    </tr>\n",
       "    <tr>\n",
       "      <td>8</td>\n",
       "      <td>11</td>\n",
       "      <td>88648</td>\n",
       "      <td>4499</td>\n",
       "      <td>0.023475</td>\n",
       "      <td>0.099468</td>\n",
       "    </tr>\n",
       "    <tr>\n",
       "      <td>9</td>\n",
       "      <td>3</td>\n",
       "      <td>68096</td>\n",
       "      <td>20669</td>\n",
       "      <td>0.107847</td>\n",
       "      <td>0.076408</td>\n",
       "    </tr>\n",
       "    <tr>\n",
       "      <td>10</td>\n",
       "      <td>9</td>\n",
       "      <td>91234</td>\n",
       "      <td>12711</td>\n",
       "      <td>0.066323</td>\n",
       "      <td>0.102370</td>\n",
       "    </tr>\n",
       "    <tr>\n",
       "      <td>11</td>\n",
       "      <td>12</td>\n",
       "      <td>93939</td>\n",
       "      <td>5171</td>\n",
       "      <td>0.026981</td>\n",
       "      <td>0.105405</td>\n",
       "    </tr>\n",
       "    <tr>\n",
       "      <td>12</td>\n",
       "      <td>10</td>\n",
       "      <td>36451</td>\n",
       "      <td>5180</td>\n",
       "      <td>0.027028</td>\n",
       "      <td>0.040900</td>\n",
       "    </tr>\n",
       "    <tr>\n",
       "      <td>13</td>\n",
       "      <td>7</td>\n",
       "      <td>32781</td>\n",
       "      <td>7774</td>\n",
       "      <td>0.040563</td>\n",
       "      <td>0.036782</td>\n",
       "    </tr>\n",
       "  </tbody>\n",
       "</table>\n",
       "</div>"
      ],
      "text/plain": [
       "    cluster  count_general  count_customers  proportion_customers  \\\n",
       "0         1          73791            13256              0.069167   \n",
       "1         4          27973            36446              0.190168   \n",
       "2         8          68208             7181              0.037469   \n",
       "3         2          32457            46733              0.243843   \n",
       "4        13          87619            14497              0.075642   \n",
       "5         0          85908             4628              0.024148   \n",
       "6         6          32249             8197              0.042770   \n",
       "7         5          71867             4710              0.024576   \n",
       "8        11          88648             4499              0.023475   \n",
       "9         3          68096            20669              0.107847   \n",
       "10        9          91234            12711              0.066323   \n",
       "11       12          93939             5171              0.026981   \n",
       "12       10          36451             5180              0.027028   \n",
       "13        7          32781             7774              0.040563   \n",
       "\n",
       "    proportion_general  \n",
       "0             0.082798  \n",
       "1             0.031387  \n",
       "2             0.076533  \n",
       "3             0.036419  \n",
       "4             0.098313  \n",
       "5             0.096394  \n",
       "6             0.036185  \n",
       "7             0.080639  \n",
       "8             0.099468  \n",
       "9             0.076408  \n",
       "10            0.102370  \n",
       "11            0.105405  \n",
       "12            0.040900  \n",
       "13            0.036782  "
      ]
     },
     "execution_count": 180,
     "metadata": {},
     "output_type": "execute_result"
    }
   ],
   "source": [
    "df_comp"
   ]
  },
  {
   "cell_type": "code",
   "execution_count": 181,
   "metadata": {},
   "outputs": [
    {
     "data": {
      "image/png": "[encoded data removed]",
      "text/plain": [
       "<Figure size 648x432 with 1 Axes>"
      ]
     },
     "metadata": {
      "needs_background": "light"
     },
     "output_type": "display_data"
    }
   ],
   "source": [
    "df_comp.plot(x='cluster', y = ['proportion_general', 'proportion_customers'], kind='bar', figsize=(9,6))\n",
    "plt.ylabel('proportion of persons in each cluster')\n",
    "plt.show()"
   ]
  },
  {
   "cell_type": "markdown",
   "metadata": {},
   "source": [
    "What kinds of people are part of a cluster that is overrepresented in the\n",
    "customer data compared to the general population?\n",
    "**Answer:**\n",
    "\n",
    "base on the above clusters 2 and 4.\n",
    "\n",
    "Cluster 4: Customer proportion is 19 % where general proportion is ~3.1%\n",
    "\n",
    "Cluster 2: Customer proportion is 24 % where general proportion is ~3.6%"
   ]
  },
  {
   "cell_type": "markdown",
   "metadata": {},
   "source": [
    "What kinds of people are part of a cluster that is underrepresented in the\n",
    "customer data compared to the general population?\n",
    "**Answer:**\n",
    "\n",
    "base on the above clusters 0, 5, 11, 12\n",
    "\n",
    "Cluster 0: Customer proportion is 2.5 % where general proportion is ~10%\n",
    "\n",
    "Cluster 5: Customer proportion is 2.5 % where general proportion is ~8%\n",
    "\n",
    "Cluster 11: Customer proportion is 2.3 % where general proportion is ~10%\n",
    "\n",
    "Cluster 12: Customer proportion is 2.6 % where general proportion is ~10.5%"
   ]
  },
  {
   "cell_type": "markdown",
   "metadata": {},
   "source": [
    "### Discussion 3.3: Compare Customer Data to Demographics Data\n",
    "\n",
    "(Double-click this cell and replace this text with your own text, reporting findings and conclusions from the clustering analysis. Can we describe segments of the population that are relatively popular with the mail-order company, or relatively unpopular with the company?)\n",
    "\n",
    "**Answer**: \n",
    "Cluster 2 and 4 are probably most popular in customer data (mail-order company) - 43%. \n",
    "Cluster 0,5,11,12 are probably relatively less popular. "
   ]
  },
  {
   "cell_type": "markdown",
   "metadata": {},
   "source": [
    "> Congratulations on making it this far in the project! Before you finish, make sure to check through the entire notebook from top to bottom to make sure that your analysis follows a logical flow and all of your findings are documented in **Discussion** cells. Once you've checked over all of your work, you should export the notebook as an HTML document to submit for evaluation. You can do this from the menu, navigating to **File -> Download as -> HTML (.html)**. You will submit both that document and this notebook for your project submission."
   ]
  },
  {
   "cell_type": "code",
   "execution_count": null,
   "metadata": {},
   "outputs": [],
   "source": []
  }
 ],
 "metadata": {
  "kernelspec": {
   "display_name": "Python 3",
   "language": "python",
   "name": "python3"
  },
  "language_info": {
   "codemirror_mode": {
    "name": "ipython",
    "version": 3
   },
   "file_extension": ".py",
   "mimetype": "text/x-python",
   "name": "python",
   "nbconvert_exporter": "python",
   "pygments_lexer": "ipython3",
   "version": "3.7.4"
  }
 },
 "nbformat": 4,
 "nbformat_minor": 2
}
